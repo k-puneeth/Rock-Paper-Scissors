{
  "nbformat": 4,
  "nbformat_minor": 0,
  "metadata": {
    "colab": {
      "name": "Rock Paper Scissors.ipynb",
      "provenance": [],
      "collapsed_sections": []
    },
    "kernelspec": {
      "name": "python3",
      "display_name": "Python 3"
    },
    "accelerator": "GPU"
  },
  "cells": [
    {
      "cell_type": "code",
      "metadata": {
        "id": "4oEF-Y9FQXG-",
        "colab": {
          "base_uri": "https://localhost:8080/"
        },
        "outputId": "ad90746e-13d4-496b-d51c-44d3c143ce5b"
      },
      "source": [
        "# from torch.utils.data import Dataset, DataLoader\r\n",
        "from torch.utils.data import DataLoader, Dataset\r\n",
        "import torch\r\n",
        "import glob\r\n",
        "from PIL import Image\r\n",
        "import numpy as np \r\n",
        "from tqdm import tqdm\r\n",
        "from torchvision import transforms\r\n",
        "from google.colab import drive\r\n",
        "drive.mount('/content/drive/')"
      ],
      "execution_count": 32,
      "outputs": [
        {
          "output_type": "stream",
          "text": [
            "Drive already mounted at /content/drive/; to attempt to forcibly remount, call drive.mount(\"/content/drive/\", force_remount=True).\n"
          ],
          "name": "stdout"
        }
      ]
    },
    {
      "cell_type": "code",
      "metadata": {
        "colab": {
          "base_uri": "https://localhost:8080/"
        },
        "id": "FoAQtv4nEJZY",
        "outputId": "ddfbf4a8-fcf5-4b3b-e632-9ae37c529326"
      },
      "source": [
        "if torch.cuda.is_available():\r\n",
        "  device = torch.device(\"cuda:0\")\r\n",
        "  print(\"Cuda De|vice Available\")\r\n",
        "  print(\"Name of the Cuda Device: \", torch.cuda.get_device_name())\r\n",
        "  print(\"GPU Computational Capablity: \", torch.cuda.get_device_capability())"
      ],
      "execution_count": 33,
      "outputs": [
        {
          "output_type": "stream",
          "text": [
            "Cuda De|vice Available\n",
            "Name of the Cuda Device:  Tesla T4\n",
            "GPU Computational Capablity:  (7, 5)\n"
          ],
          "name": "stdout"
        }
      ]
    },
    {
      "cell_type": "code",
      "metadata": {
        "id": "WUka1AUaPclI"
      },
      "source": [
        "# class ToTensor(object):\r\n",
        "#     \"\"\"Convert ndarrays in sample to Tensors.\"\"\"\r\n",
        "\r\n",
        "#     def __call__(self, sample):\r\n",
        "#         image, landmarks = sample['input'], sample['output']\r\n",
        "\r\n",
        "#         # swap color axis because\r\n",
        "#         # numpy image: H x W x C\r\n",
        "#         # torch image: C X H X W\r\n",
        "#         image = np.array(image).transpose((2, 0, 1))\r\n",
        "#         # print(image.shape)\r\n",
        "#         # print(torch.from_numpy(image).size())\r\n",
        "#         return {'input': torch.from_numpy(image),\r\n",
        "#                 'output': torch.from_numpy(np.array(landmarks))}"
      ],
      "execution_count": 34,
      "outputs": []
    },
    {
      "cell_type": "code",
      "metadata": {
        "id": "XtsCDcqkYaIm"
      },
      "source": [
        "class ToTensor(object):\r\n",
        "    \"\"\"Convert ndarrays in sample to Tensors.\"\"\"\r\n",
        "\r\n",
        "    def __call__(self, sample):\r\n",
        "        image, landmarks = sample['input'], sample['output']\r\n",
        "\r\n",
        "        # swap color axis because\r\n",
        "        # numpy image: H x W x C\r\n",
        "        # torch image: C X H X W\r\n",
        "        image = np.array(image).transpose((2, 0, 1))\r\n",
        "        # print(image.shape)\r\n",
        "        # print(torch.from_numpy(image).size())\r\n",
        "        return {'input': torch.from_numpy(image),\r\n",
        "                'output': torch.from_numpy(np.array(landmarks))}"
      ],
      "execution_count": 35,
      "outputs": []
    },
    {
      "cell_type": "code",
      "metadata": {
        "id": "b9EgIgFWUOkL"
      },
      "source": [
        "class RockPapersDataset(Dataset):\r\n",
        "  def __init__(self, data_path, mode, transform=None):\r\n",
        "    self.path = data_path\r\n",
        "    self.transform = transform\r\n",
        "    if(mode=='train'):\r\n",
        "      self.imagesList = glob.glob(self.path+'/train/*/*')\r\n",
        "    elif(mode=='val'):\r\n",
        "      self.imagesList = glob.glob(self.path+'/validation/*')\r\n",
        "    elif(mode=='test'):\r\n",
        "      self.imagesList = glob.glob(self.path+'/test/*/*')\r\n",
        "  def __len__(self):\r\n",
        "    return len(self.imagesList)\r\n",
        "  def __getitem__(self, idx):\r\n",
        "    input = Image.open(self.imagesList[idx])\r\n",
        "    if((self.imagesList[idx].split('/'))[-2]=='rock'):\r\n",
        "      output = 0\r\n",
        "    elif((self.imagesList[idx].split('/'))[-2]=='paper'):\r\n",
        "      output = 1\r\n",
        "    elif((self.imagesList[idx].split('/'))[-2]=='scissors'):\r\n",
        "      output = 2\r\n",
        "    sample = {\"input\": input, \"output\": output}\r\n",
        "    if self.transform:\r\n",
        "      sample = self.transform(sample)\r\n",
        "    return sample"
      ],
      "execution_count": 36,
      "outputs": []
    },
    {
      "cell_type": "code",
      "metadata": {
        "id": "4Zzffqy3Lbqe"
      },
      "source": [
        "trainDataset = RockPapersDataset(\"/content/drive/MyDrive/Rock-Paper-Scissors\", \"train\", transform = transforms.Compose([ToTensor()]))\r\n",
        "# testDataset = RockPapersDataset(\"/content/drive/MyDrive/Rock-Paper-Scissors\", \"test\")\r\n",
        "# valDataset = RockPapersDataset(\"/content/drive/MyDrive/Rock-Paper-Scissors\", \"val\")"
      ],
      "execution_count": 37,
      "outputs": []
    },
    {
      "cell_type": "code",
      "metadata": {
        "id": "wS-GbgD2af1-"
      },
      "source": [
        "# trainLoader = DataLoader(dataset=trainDataset, batch_size=32, shuffle=True)\r\n",
        "# testLoader = DataLoader(dataset=testDataset)\r\n",
        "# valLoader = DataLoader(dataset=valDataset, batch_size=32, shuffle=True)"
      ],
      "execution_count": 38,
      "outputs": []
    },
    {
      "cell_type": "code",
      "metadata": {
        "id": "CloFZ70GbOdS"
      },
      "source": [
        "import torch.nn as nn\r\n",
        "import torch.nn.functional as F"
      ],
      "execution_count": 39,
      "outputs": []
    },
    {
      "cell_type": "code",
      "metadata": {
        "colab": {
          "base_uri": "https://localhost:8080/",
          "height": 287
        },
        "id": "kn_MnzFn1oN2",
        "outputId": "e47f2473-d2e5-4f15-cedd-998f0e1a0572"
      },
      "source": [
        "img = Image.open(\"/content/drive/MyDrive/Rock-Paper-Scissors/test/paper/testpaper01-00.png\")\r\n",
        "from matplotlib import pyplot as plt\r\n",
        "plt.imshow(img)\r\n",
        "print(img.size)"
      ],
      "execution_count": 40,
      "outputs": [
        {
          "output_type": "stream",
          "text": [
            "(300, 300)\n"
          ],
          "name": "stdout"
        },
        {
          "output_type": "display_data",
          "data": {
            "image/png": "[encoded data removed]",
            "text/plain": [
              "<Figure size 432x288 with 1 Axes>"
            ]
          },
          "metadata": {
            "tags": [],
            "needs_background": "light"
          }
        }
      ]
    },
    {
      "cell_type": "code",
      "metadata": {
        "id": "2f95YkCDFf5V"
      },
      "source": [
        "class RPSNetwork(nn.Module):\r\n",
        "  def __init__(self):\r\n",
        "    super().__init__()\r\n",
        "    # convolutional layers\r\n",
        "    self.conv1 = nn.Conv2d(4, 8, 3, padding=1)\r\n",
        "    self.conv2 = nn.Conv2d(8, 16, 3, padding =1)\r\n",
        "    self.conv3 = nn.Conv2d(16, 32, 3, padding=1)\r\n",
        "    self.conv4 = nn.Conv2d(32, 64, 3, padding=1)\r\n",
        "    # linear layers\r\n",
        "    self.fc1 = nn.Linear(20736, 1024)\r\n",
        "    self.fc2 = nn.Linear(1024, 512)\r\n",
        "    self.fc3 = nn.Linear(512, 256)\r\n",
        "    self.fc4 = nn.Linear(256, 128)\r\n",
        "    self.fc5 = nn.Linear(128, 64)\r\n",
        "    self.fc6 = nn.Linear(64, 32)\r\n",
        "    self.fc7 = nn.Linear(32, 16)\r\n",
        "    self.fc8 = nn.Linear(16, 3) \r\n",
        "    # dropout\r\n",
        "    self.dropout = nn.Dropout(p=0.2)\r\n",
        "    # max pooling\r\n",
        "    self.pool = nn.MaxPool2d(2, 2)\r\n",
        "    \r\n",
        "  def forward(self, x):\r\n",
        "    # convolutional layers with ReLU and pooling\r\n",
        "    x = self.pool(F.relu(self.conv1(x)))\r\n",
        "    x = self.pool(F.relu(self.conv2(x)))\r\n",
        "    x = self.pool(F.relu(self.conv3(x)))\r\n",
        "    x = self.pool(F.relu(self.conv4(x)))\r\n",
        "    # flattening the image\r\n",
        "    x = x.view(-1, 18*18*64)\r\n",
        "    # linear layers\r\n",
        "    x = self.dropout(F.relu(self.fc1(x)))\r\n",
        "    x = self.dropout(F.relu(self.fc2(x)))\r\n",
        "    x = self.dropout(F.relu(self.fc3(x)))\r\n",
        "    x = self.dropout(F.relu(self.fc4(x)))\r\n",
        "    x = self.dropout(F.relu(self.fc5(x)))\r\n",
        "    x = self.dropout(F.relu(self.fc6(x)))\r\n",
        "    x = self.dropout(F.relu(self.fc7(x)))\r\n",
        "    # x = self.dropout(F.relu(self.fc8(x)))\r\n",
        "    x = self.fc8(x)\r\n",
        "    x = F.softmax(x)\r\n",
        "    return x"
      ],
      "execution_count": 41,
      "outputs": []
    },
    {
      "cell_type": "code",
      "metadata": {
        "id": "eQkQB4LIDSi9",
        "colab": {
          "base_uri": "https://localhost:8080/"
        },
        "outputId": "d981749d-6d16-4b1a-aa4b-cf26f880f5fe"
      },
      "source": [
        "model = RPSNetwork()\r\n",
        "model = model.cuda()\r\n",
        "print(model)"
      ],
      "execution_count": 50,
      "outputs": [
        {
          "output_type": "stream",
          "text": [
            "RPSNetwork(\n",
            "  (conv1): Conv2d(4, 8, kernel_size=(3, 3), stride=(1, 1), padding=(1, 1))\n",
            "  (conv2): Conv2d(8, 16, kernel_size=(3, 3), stride=(1, 1), padding=(1, 1))\n",
            "  (conv3): Conv2d(16, 32, kernel_size=(3, 3), stride=(1, 1), padding=(1, 1))\n",
            "  (conv4): Conv2d(32, 64, kernel_size=(3, 3), stride=(1, 1), padding=(1, 1))\n",
            "  (fc1): Linear(in_features=20736, out_features=1024, bias=True)\n",
            "  (fc2): Linear(in_features=1024, out_features=512, bias=True)\n",
            "  (fc3): Linear(in_features=512, out_features=256, bias=True)\n",
            "  (fc4): Linear(in_features=256, out_features=128, bias=True)\n",
            "  (fc5): Linear(in_features=128, out_features=64, bias=True)\n",
            "  (fc6): Linear(in_features=64, out_features=32, bias=True)\n",
            "  (fc7): Linear(in_features=32, out_features=16, bias=True)\n",
            "  (fc8): Linear(in_features=16, out_features=3, bias=True)\n",
            "  (dropout): Dropout(p=0.2, inplace=False)\n",
            "  (pool): MaxPool2d(kernel_size=2, stride=2, padding=0, dilation=1, ceil_mode=False)\n",
            ")\n"
          ],
          "name": "stdout"
        }
      ]
    },
    {
      "cell_type": "code",
      "metadata": {
        "id": "GSWteesdGEzE"
      },
      "source": [
        "from torch.optim import Adam\r\n",
        "\r\n",
        "trainLoader = DataLoader(dataset=trainDataset, batch_size=128, shuffle=True)\r\n",
        "criterion = nn.CrossEntropyLoss()\r\n",
        "optimizer = Adam(model.parameters(), lr = 0.001)"
      ],
      "execution_count": 51,
      "outputs": []
    },
    {
      "cell_type": "code",
      "metadata": {
        "colab": {
          "base_uri": "https://localhost:8080/"
        },
        "id": "1-P1dkZCOvlD",
        "outputId": "2f789585-9e67-4a3c-ca86-bc7fa380de31"
      },
      "source": [
        "# epochs to train for\r\n",
        "epochs = 25\r\n",
        "\r\n",
        "# tracks validation loss change after each epoch\r\n",
        "# minimum_validation_loss = np.inf \r\n",
        "\r\n",
        "for epoch in range(1, epochs+1):\r\n",
        "    \r\n",
        "    train_loss = 0\r\n",
        "    # valid_loss = 0\r\n",
        "    \r\n",
        "    # training steps\r\n",
        "    model.train()\r\n",
        "    correct = 0\r\n",
        "    for batch_index, batch in tqdm(enumerate(trainLoader)):\r\n",
        "        # moves tensors to GPU\r\n",
        "        data, target = batch['input'].float().cuda(), batch['output'].cuda()\r\n",
        "        # clears gradients\r\n",
        "        optimizer.zero_grad()\r\n",
        "        # forward pass\r\n",
        "        output = model(data)\r\n",
        "        # loss in batch\r\n",
        "        loss = criterion(output, target)\r\n",
        "        # backward pass for loss gradient\r\n",
        "        loss.backward()\r\n",
        "        # update paremeters\r\n",
        "        optimizer.step()\r\n",
        "        # update training loss\r\n",
        "        train_loss += loss.item()*data.size(0)\r\n",
        "        #update accuracy\r\n",
        "        for idx, i in enumerate(output):\r\n",
        "            i  = torch.argmax(i)\r\n",
        "            if i == target[idx]:\r\n",
        "                correct += 1\r\n",
        "        \r\n",
        "    # validation steps\r\n",
        "    # model.eval()\r\n",
        "    # for batch_index, (data, target) in enumerate(valid_loader):\r\n",
        "    #     # moves tensors to GPU\r\n",
        "    #     data, target = data.cuda(), target.cuda()\r\n",
        "    #     # forward pass\r\n",
        "    #     output = model(data)\r\n",
        "    #     # loss in batch\r\n",
        "    #     loss = criterion(output, target)\r\n",
        "    #     # update validation loss\r\n",
        "    #     valid_loss += loss.item()*data.size(0)\r\n",
        "        \r\n",
        "    # average loss calculations\r\n",
        "    train_loss = train_loss/len(trainLoader.sampler)\r\n",
        "    # valid_loss = valid_loss/len(valid_loader.sampler)\r\n",
        "    \r\n",
        "    # Display loss statistics\r\n",
        "    print(f'Current Epoch: {epoch}\\nTraining Loss: {round(train_loss, 6)} \\t Accuracy: {round(correct/len(trainLoader.sampler), 6)}')\r\n",
        "\r\n",
        "    # Saving model every time validation loss decreases\r\n",
        "    # if valid_loss <= minimum_validation_loss:\r\n",
        "        # print(f'Validation loss decreased from {round(minimum_validation_loss, 6)} to {round(valid_loss, 6)}')\r\n",
        "torch.save(model.state_dict(), 'trained_model.pt')\r\n",
        "# minimum_validation_loss = valid_loss\r\n",
        "print('Saving New Model')"
      ],
      "execution_count": 52,
      "outputs": [
        {
          "output_type": "stream",
          "text": [
            "\n",
            "\n",
            "0it [00:00, ?it/s]\u001b[A\u001b[A/usr/local/lib/python3.6/dist-packages/ipykernel_launcher.py:41: UserWarning: Implicit dimension choice for softmax has been deprecated. Change the call to include dim=X as an argument.\n",
            "\n",
            "\n",
            "1it [00:00,  1.29it/s]\u001b[A\u001b[A\n",
            "\n",
            "2it [00:01,  1.33it/s]\u001b[A\u001b[A\n",
            "\n",
            "3it [00:02,  1.35it/s]\u001b[A\u001b[A\n",
            "\n",
            "4it [00:02,  1.37it/s]\u001b[A\u001b[A\n",
            "\n",
            "5it [00:03,  1.40it/s]\u001b[A\u001b[A\n",
            "\n",
            "6it [00:04,  1.41it/s]\u001b[A\u001b[A\n",
            "\n",
            "7it [00:04,  1.42it/s]\u001b[A\u001b[A\n",
            "\n",
            "8it [00:05,  1.42it/s]\u001b[A\u001b[A\n",
            "\n",
            "9it [00:06,  1.43it/s]\u001b[A\u001b[A\n",
            "\n",
            "10it [00:07,  1.43it/s]\u001b[A\u001b[A\n",
            "\n",
            "11it [00:07,  1.42it/s]\u001b[A\u001b[A\n",
            "\n",
            "12it [00:08,  1.43it/s]\u001b[A\u001b[A\n",
            "\n",
            "13it [00:09,  1.43it/s]\u001b[A\u001b[A\n",
            "\n",
            "14it [00:09,  1.43it/s]\u001b[A\u001b[A\n",
            "\n",
            "15it [00:10,  1.43it/s]\u001b[A\u001b[A\n",
            "\n",
            "16it [00:11,  1.43it/s]\u001b[A\u001b[A\n",
            "\n",
            "17it [00:11,  1.42it/s]\u001b[A\u001b[A\n",
            "\n",
            "18it [00:12,  1.42it/s]\u001b[A\u001b[A\n",
            "\n",
            "19it [00:13,  1.43it/s]\u001b[A\u001b[A\n",
            "\n",
            "20it [00:13,  1.43it/s]\n",
            "\n",
            "\n",
            "0it [00:00, ?it/s]\u001b[A\u001b[A"
          ],
          "name": "stderr"
        },
        {
          "output_type": "stream",
          "text": [
            "Current Epoch: 1\n",
            "Training Loss: 1.100564 \t Accuracy: 0.317092\n"
          ],
          "name": "stdout"
        },
        {
          "output_type": "stream",
          "text": [
            "\n",
            "\n",
            "1it [00:00,  1.40it/s]\u001b[A\u001b[A\n",
            "\n",
            "2it [00:01,  1.39it/s]\u001b[A\u001b[A\n",
            "\n",
            "3it [00:02,  1.39it/s]\u001b[A\u001b[A\n",
            "\n",
            "4it [00:02,  1.40it/s]\u001b[A\u001b[A\n",
            "\n",
            "5it [00:03,  1.41it/s]\u001b[A\u001b[A\n",
            "\n",
            "6it [00:04,  1.40it/s]\u001b[A\u001b[A\n",
            "\n",
            "7it [00:04,  1.40it/s]\u001b[A\u001b[A\n",
            "\n",
            "8it [00:05,  1.41it/s]\u001b[A\u001b[A\n",
            "\n",
            "9it [00:06,  1.40it/s]\u001b[A\u001b[A\n",
            "\n",
            "10it [00:07,  1.41it/s]\u001b[A\u001b[A\n",
            "\n",
            "11it [00:07,  1.42it/s]\u001b[A\u001b[A\n",
            "\n",
            "12it [00:08,  1.43it/s]\u001b[A\u001b[A\n",
            "\n",
            "13it [00:09,  1.43it/s]\u001b[A\u001b[A\n",
            "\n",
            "14it [00:09,  1.43it/s]\u001b[A\u001b[A\n",
            "\n",
            "15it [00:10,  1.43it/s]\u001b[A\u001b[A\n",
            "\n",
            "16it [00:11,  1.42it/s]\u001b[A\u001b[A\n",
            "\n",
            "17it [00:12,  1.41it/s]\u001b[A\u001b[A\n",
            "\n",
            "18it [00:12,  1.42it/s]\u001b[A\u001b[A\n",
            "\n",
            "19it [00:13,  1.42it/s]\u001b[A\u001b[A\n",
            "\n",
            "20it [00:14,  1.42it/s]\n",
            "\n",
            "\n",
            "0it [00:00, ?it/s]\u001b[A\u001b[A"
          ],
          "name": "stderr"
        },
        {
          "output_type": "stream",
          "text": [
            "Current Epoch: 2\n",
            "Training Loss: 1.008103 \t Accuracy: 0.486444\n"
          ],
          "name": "stdout"
        },
        {
          "output_type": "stream",
          "text": [
            "\n",
            "\n",
            "1it [00:00,  1.41it/s]\u001b[A\u001b[A\n",
            "\n",
            "2it [00:01,  1.42it/s]\u001b[A\u001b[A\n",
            "\n",
            "3it [00:02,  1.42it/s]\u001b[A\u001b[A\n",
            "\n",
            "4it [00:02,  1.41it/s]\u001b[A\u001b[A\n",
            "\n",
            "5it [00:03,  1.41it/s]\u001b[A\u001b[A\n",
            "\n",
            "6it [00:04,  1.41it/s]\u001b[A\u001b[A\n",
            "\n",
            "7it [00:04,  1.42it/s]\u001b[A\u001b[A\n",
            "\n",
            "8it [00:05,  1.42it/s]\u001b[A\u001b[A\n",
            "\n",
            "9it [00:06,  1.42it/s]\u001b[A\u001b[A\n",
            "\n",
            "10it [00:07,  1.42it/s]\u001b[A\u001b[A\n",
            "\n",
            "11it [00:07,  1.41it/s]\u001b[A\u001b[A\n",
            "\n",
            "12it [00:08,  1.42it/s]\u001b[A\u001b[A\n",
            "\n",
            "13it [00:09,  1.42it/s]\u001b[A\u001b[A\n",
            "\n",
            "14it [00:09,  1.42it/s]\u001b[A\u001b[A\n",
            "\n",
            "15it [00:10,  1.42it/s]\u001b[A\u001b[A\n",
            "\n",
            "16it [00:11,  1.41it/s]\u001b[A\u001b[A\n",
            "\n",
            "17it [00:12,  1.41it/s]\u001b[A\u001b[A\n",
            "\n",
            "18it [00:12,  1.41it/s]\u001b[A\u001b[A\n",
            "\n",
            "19it [00:13,  1.41it/s]\u001b[A\u001b[A\n",
            "\n",
            "20it [00:14,  1.42it/s]\n",
            "\n",
            "\n",
            "0it [00:00, ?it/s]\u001b[A\u001b[A"
          ],
          "name": "stderr"
        },
        {
          "output_type": "stream",
          "text": [
            "Current Epoch: 3\n",
            "Training Loss: 0.723231 \t Accuracy: 0.824361\n"
          ],
          "name": "stdout"
        },
        {
          "output_type": "stream",
          "text": [
            "\n",
            "\n",
            "1it [00:00,  1.41it/s]\u001b[A\u001b[A\n",
            "\n",
            "2it [00:01,  1.41it/s]\u001b[A\u001b[A\n",
            "\n",
            "3it [00:02,  1.42it/s]\u001b[A\u001b[A\n",
            "\n",
            "4it [00:02,  1.42it/s]\u001b[A\u001b[A\n",
            "\n",
            "5it [00:03,  1.42it/s]\u001b[A\u001b[A\n",
            "\n",
            "6it [00:04,  1.42it/s]\u001b[A\u001b[A\n",
            "\n",
            "7it [00:04,  1.41it/s]\u001b[A\u001b[A\n",
            "\n",
            "8it [00:05,  1.41it/s]\u001b[A\u001b[A\n",
            "\n",
            "9it [00:06,  1.40it/s]\u001b[A\u001b[A\n",
            "\n",
            "10it [00:07,  1.41it/s]\u001b[A\u001b[A\n",
            "\n",
            "11it [00:07,  1.41it/s]\u001b[A\u001b[A\n",
            "\n",
            "12it [00:08,  1.41it/s]\u001b[A\u001b[A\n",
            "\n",
            "13it [00:09,  1.41it/s]\u001b[A\u001b[A\n",
            "\n",
            "14it [00:09,  1.42it/s]\u001b[A\u001b[A\n",
            "\n",
            "15it [00:10,  1.40it/s]\u001b[A\u001b[A\n",
            "\n",
            "16it [00:11,  1.39it/s]\u001b[A\u001b[A\n",
            "\n",
            "17it [00:12,  1.40it/s]\u001b[A\u001b[A\n",
            "\n",
            "18it [00:12,  1.41it/s]\u001b[A\u001b[A\n",
            "\n",
            "19it [00:13,  1.42it/s]\u001b[A\u001b[A\n",
            "\n",
            "20it [00:14,  1.42it/s]\n",
            "\n",
            "\n",
            "0it [00:00, ?it/s]\u001b[A\u001b[A"
          ],
          "name": "stderr"
        },
        {
          "output_type": "stream",
          "text": [
            "Current Epoch: 4\n",
            "Training Loss: 0.617835 \t Accuracy: 0.934381\n"
          ],
          "name": "stdout"
        },
        {
          "output_type": "stream",
          "text": [
            "\n",
            "\n",
            "1it [00:00,  1.45it/s]\u001b[A\u001b[A\n",
            "\n",
            "2it [00:01,  1.44it/s]\u001b[A\u001b[A\n",
            "\n",
            "3it [00:02,  1.44it/s]\u001b[A\u001b[A\n",
            "\n",
            "4it [00:02,  1.43it/s]\u001b[A\u001b[A\n",
            "\n",
            "5it [00:03,  1.43it/s]\u001b[A\u001b[A\n",
            "\n",
            "6it [00:04,  1.42it/s]\u001b[A\u001b[A\n",
            "\n",
            "7it [00:04,  1.42it/s]\u001b[A\u001b[A\n",
            "\n",
            "8it [00:05,  1.42it/s]\u001b[A\u001b[A\n",
            "\n",
            "9it [00:06,  1.42it/s]\u001b[A\u001b[A\n",
            "\n",
            "10it [00:07,  1.42it/s]\u001b[A\u001b[A\n",
            "\n",
            "11it [00:07,  1.42it/s]\u001b[A\u001b[A\n",
            "\n",
            "12it [00:08,  1.42it/s]\u001b[A\u001b[A\n",
            "\n",
            "13it [00:09,  1.42it/s]\u001b[A\u001b[A\n",
            "\n",
            "14it [00:09,  1.42it/s]\u001b[A\u001b[A\n",
            "\n",
            "15it [00:10,  1.42it/s]\u001b[A\u001b[A\n",
            "\n",
            "16it [00:11,  1.42it/s]\u001b[A\u001b[A\n",
            "\n",
            "17it [00:11,  1.43it/s]\u001b[A\u001b[A\n",
            "\n",
            "18it [00:12,  1.43it/s]\u001b[A\u001b[A\n",
            "\n",
            "19it [00:13,  1.44it/s]\u001b[A\u001b[A\n",
            "\n",
            "20it [00:13,  1.43it/s]\n",
            "\n",
            "\n",
            "0it [00:00, ?it/s]\u001b[A\u001b[A"
          ],
          "name": "stderr"
        },
        {
          "output_type": "stream",
          "text": [
            "Current Epoch: 5\n",
            "Training Loss: 0.563802 \t Accuracy: 0.989784\n"
          ],
          "name": "stdout"
        },
        {
          "output_type": "stream",
          "text": [
            "\n",
            "\n",
            "1it [00:00,  1.38it/s]\u001b[A\u001b[A\n",
            "\n",
            "2it [00:01,  1.39it/s]\u001b[A\u001b[A\n",
            "\n",
            "3it [00:02,  1.40it/s]\u001b[A\u001b[A\n",
            "\n",
            "4it [00:02,  1.41it/s]\u001b[A\u001b[A\n",
            "\n",
            "5it [00:03,  1.41it/s]\u001b[A\u001b[A\n",
            "\n",
            "6it [00:04,  1.42it/s]\u001b[A\u001b[A\n",
            "\n",
            "7it [00:04,  1.42it/s]\u001b[A\u001b[A\n",
            "\n",
            "8it [00:05,  1.42it/s]\u001b[A\u001b[A\n",
            "\n",
            "9it [00:06,  1.42it/s]\u001b[A\u001b[A\n",
            "\n",
            "10it [00:07,  1.43it/s]\u001b[A\u001b[A\n",
            "\n",
            "11it [00:07,  1.43it/s]\u001b[A\u001b[A\n",
            "\n",
            "12it [00:08,  1.42it/s]\u001b[A\u001b[A\n",
            "\n",
            "13it [00:09,  1.43it/s]\u001b[A\u001b[A\n",
            "\n",
            "14it [00:09,  1.43it/s]\u001b[A\u001b[A\n",
            "\n",
            "15it [00:10,  1.42it/s]\u001b[A\u001b[A\n",
            "\n",
            "16it [00:11,  1.41it/s]\u001b[A\u001b[A\n",
            "\n",
            "17it [00:11,  1.42it/s]\u001b[A\u001b[A\n",
            "\n",
            "18it [00:12,  1.42it/s]\u001b[A\u001b[A\n",
            "\n",
            "19it [00:13,  1.42it/s]\u001b[A\u001b[A\n",
            "\n",
            "20it [00:13,  1.43it/s]\n",
            "\n",
            "\n",
            "0it [00:00, ?it/s]\u001b[A\u001b[A"
          ],
          "name": "stderr"
        },
        {
          "output_type": "stream",
          "text": [
            "Current Epoch: 6\n",
            "Training Loss: 0.562312 \t Accuracy: 0.989391\n"
          ],
          "name": "stdout"
        },
        {
          "output_type": "stream",
          "text": [
            "\n",
            "\n",
            "1it [00:00,  1.39it/s]\u001b[A\u001b[A\n",
            "\n",
            "2it [00:01,  1.40it/s]\u001b[A\u001b[A\n",
            "\n",
            "3it [00:02,  1.41it/s]\u001b[A\u001b[A\n",
            "\n",
            "4it [00:02,  1.42it/s]\u001b[A\u001b[A\n",
            "\n",
            "5it [00:03,  1.42it/s]\u001b[A\u001b[A\n",
            "\n",
            "6it [00:04,  1.43it/s]\u001b[A\u001b[A\n",
            "\n",
            "7it [00:04,  1.43it/s]\u001b[A\u001b[A\n",
            "\n",
            "8it [00:05,  1.42it/s]\u001b[A\u001b[A\n",
            "\n",
            "9it [00:06,  1.43it/s]\u001b[A\u001b[A\n",
            "\n",
            "10it [00:07,  1.43it/s]\u001b[A\u001b[A\n",
            "\n",
            "11it [00:07,  1.42it/s]\u001b[A\u001b[A\n",
            "\n",
            "12it [00:08,  1.42it/s]\u001b[A\u001b[A\n",
            "\n",
            "13it [00:09,  1.43it/s]\u001b[A\u001b[A\n",
            "\n",
            "14it [00:09,  1.43it/s]\u001b[A\u001b[A\n",
            "\n",
            "15it [00:10,  1.43it/s]\u001b[A\u001b[A\n",
            "\n",
            "16it [00:11,  1.44it/s]\u001b[A\u001b[A\n",
            "\n",
            "17it [00:11,  1.43it/s]\u001b[A\u001b[A\n",
            "\n",
            "18it [00:12,  1.43it/s]\u001b[A\u001b[A\n",
            "\n",
            "19it [00:13,  1.43it/s]\u001b[A\u001b[A\n",
            "\n",
            "20it [00:13,  1.43it/s]\n",
            "\n",
            "\n",
            "0it [00:00, ?it/s]\u001b[A\u001b[A"
          ],
          "name": "stderr"
        },
        {
          "output_type": "stream",
          "text": [
            "Current Epoch: 7\n",
            "Training Loss: 0.558229 \t Accuracy: 0.993713\n"
          ],
          "name": "stdout"
        },
        {
          "output_type": "stream",
          "text": [
            "\n",
            "\n",
            "1it [00:00,  1.44it/s]\u001b[A\u001b[A\n",
            "\n",
            "2it [00:01,  1.44it/s]\u001b[A\u001b[A\n",
            "\n",
            "3it [00:02,  1.44it/s]\u001b[A\u001b[A\n",
            "\n",
            "4it [00:02,  1.42it/s]\u001b[A\u001b[A\n",
            "\n",
            "5it [00:03,  1.42it/s]\u001b[A\u001b[A\n",
            "\n",
            "6it [00:04,  1.43it/s]\u001b[A\u001b[A\n",
            "\n",
            "7it [00:04,  1.42it/s]\u001b[A\u001b[A\n",
            "\n",
            "8it [00:05,  1.42it/s]\u001b[A\u001b[A\n",
            "\n",
            "9it [00:06,  1.42it/s]\u001b[A\u001b[A\n",
            "\n",
            "10it [00:07,  1.41it/s]\u001b[A\u001b[A\n",
            "\n",
            "11it [00:07,  1.42it/s]\u001b[A\u001b[A\n",
            "\n",
            "12it [00:08,  1.42it/s]\u001b[A\u001b[A\n",
            "\n",
            "13it [00:09,  1.42it/s]\u001b[A\u001b[A\n",
            "\n",
            "14it [00:09,  1.42it/s]\u001b[A\u001b[A\n",
            "\n",
            "15it [00:10,  1.43it/s]\u001b[A\u001b[A\n",
            "\n",
            "16it [00:11,  1.43it/s]\u001b[A\u001b[A\n",
            "\n",
            "17it [00:11,  1.41it/s]\u001b[A\u001b[A\n",
            "\n",
            "18it [00:12,  1.40it/s]\u001b[A\u001b[A\n",
            "\n",
            "19it [00:13,  1.41it/s]\u001b[A\u001b[A\n",
            "\n",
            "20it [00:14,  1.43it/s]\n",
            "\n",
            "\n",
            "0it [00:00, ?it/s]\u001b[A\u001b[A"
          ],
          "name": "stderr"
        },
        {
          "output_type": "stream",
          "text": [
            "Current Epoch: 8\n",
            "Training Loss: 0.567979 \t Accuracy: 0.98389\n"
          ],
          "name": "stdout"
        },
        {
          "output_type": "stream",
          "text": [
            "\n",
            "\n",
            "1it [00:00,  1.41it/s]\u001b[A\u001b[A\n",
            "\n",
            "2it [00:01,  1.42it/s]\u001b[A\u001b[A\n",
            "\n",
            "3it [00:02,  1.42it/s]\u001b[A\u001b[A\n",
            "\n",
            "4it [00:02,  1.42it/s]\u001b[A\u001b[A\n",
            "\n",
            "5it [00:03,  1.41it/s]\u001b[A\u001b[A\n",
            "\n",
            "6it [00:04,  1.41it/s]\u001b[A\u001b[A\n",
            "\n",
            "7it [00:04,  1.41it/s]\u001b[A\u001b[A\n",
            "\n",
            "8it [00:05,  1.42it/s]\u001b[A\u001b[A\n",
            "\n",
            "9it [00:06,  1.42it/s]\u001b[A\u001b[A\n",
            "\n",
            "10it [00:07,  1.42it/s]\u001b[A\u001b[A\n",
            "\n",
            "11it [00:07,  1.42it/s]\u001b[A\u001b[A\n",
            "\n",
            "12it [00:08,  1.43it/s]\u001b[A\u001b[A\n",
            "\n",
            "13it [00:09,  1.42it/s]\u001b[A\u001b[A\n",
            "\n",
            "14it [00:09,  1.42it/s]\u001b[A\u001b[A\n",
            "\n",
            "15it [00:10,  1.42it/s]\u001b[A\u001b[A\n",
            "\n",
            "16it [00:11,  1.42it/s]\u001b[A\u001b[A\n",
            "\n",
            "17it [00:11,  1.42it/s]\u001b[A\u001b[A\n",
            "\n",
            "18it [00:12,  1.42it/s]\u001b[A\u001b[A\n",
            "\n",
            "19it [00:13,  1.43it/s]\u001b[A\u001b[A\n",
            "\n",
            "20it [00:13,  1.43it/s]\n",
            "\n",
            "\n",
            "0it [00:00, ?it/s]\u001b[A\u001b[A"
          ],
          "name": "stderr"
        },
        {
          "output_type": "stream",
          "text": [
            "Current Epoch: 9\n",
            "Training Loss: 0.561127 \t Accuracy: 0.99057\n"
          ],
          "name": "stdout"
        },
        {
          "output_type": "stream",
          "text": [
            "\n",
            "\n",
            "1it [00:00,  1.39it/s]\u001b[A\u001b[A\n",
            "\n",
            "2it [00:01,  1.40it/s]\u001b[A\u001b[A\n",
            "\n",
            "3it [00:02,  1.41it/s]\u001b[A\u001b[A\n",
            "\n",
            "4it [00:02,  1.42it/s]\u001b[A\u001b[A\n",
            "\n",
            "5it [00:03,  1.42it/s]\u001b[A\u001b[A\n",
            "\n",
            "6it [00:04,  1.42it/s]\u001b[A\u001b[A\n",
            "\n",
            "7it [00:04,  1.42it/s]\u001b[A\u001b[A\n",
            "\n",
            "8it [00:05,  1.42it/s]\u001b[A\u001b[A\n",
            "\n",
            "9it [00:06,  1.42it/s]\u001b[A\u001b[A\n",
            "\n",
            "10it [00:07,  1.42it/s]\u001b[A\u001b[A\n",
            "\n",
            "11it [00:07,  1.42it/s]\u001b[A\u001b[A\n",
            "\n",
            "12it [00:08,  1.42it/s]\u001b[A\u001b[A\n",
            "\n",
            "13it [00:09,  1.43it/s]\u001b[A\u001b[A\n",
            "\n",
            "14it [00:09,  1.43it/s]\u001b[A\u001b[A\n",
            "\n",
            "15it [00:10,  1.43it/s]\u001b[A\u001b[A\n",
            "\n",
            "16it [00:11,  1.43it/s]\u001b[A\u001b[A\n",
            "\n",
            "17it [00:11,  1.43it/s]\u001b[A\u001b[A\n",
            "\n",
            "18it [00:12,  1.43it/s]\u001b[A\u001b[A\n",
            "\n",
            "19it [00:13,  1.43it/s]\u001b[A\u001b[A\n",
            "\n",
            "20it [00:13,  1.44it/s]\n",
            "\n",
            "\n",
            "0it [00:00, ?it/s]\u001b[A\u001b[A"
          ],
          "name": "stderr"
        },
        {
          "output_type": "stream",
          "text": [
            "Current Epoch: 10\n",
            "Training Loss: 0.56689 \t Accuracy: 0.985069\n"
          ],
          "name": "stdout"
        },
        {
          "output_type": "stream",
          "text": [
            "\n",
            "\n",
            "1it [00:00,  1.40it/s]\u001b[A\u001b[A\n",
            "\n",
            "2it [00:01,  1.39it/s]\u001b[A\u001b[A\n",
            "\n",
            "3it [00:02,  1.41it/s]\u001b[A\u001b[A\n",
            "\n",
            "4it [00:02,  1.41it/s]\u001b[A\u001b[A\n",
            "\n",
            "5it [00:03,  1.41it/s]\u001b[A\u001b[A\n",
            "\n",
            "6it [00:04,  1.42it/s]\u001b[A\u001b[A\n",
            "\n",
            "7it [00:04,  1.43it/s]\u001b[A\u001b[A\n",
            "\n",
            "8it [00:05,  1.43it/s]\u001b[A\u001b[A\n",
            "\n",
            "9it [00:06,  1.42it/s]\u001b[A\u001b[A\n",
            "\n",
            "10it [00:07,  1.43it/s]\u001b[A\u001b[A\n",
            "\n",
            "11it [00:07,  1.43it/s]\u001b[A\u001b[A\n",
            "\n",
            "12it [00:08,  1.43it/s]\u001b[A\u001b[A\n",
            "\n",
            "13it [00:09,  1.42it/s]\u001b[A\u001b[A\n",
            "\n",
            "14it [00:09,  1.43it/s]\u001b[A\u001b[A\n",
            "\n",
            "15it [00:10,  1.43it/s]\u001b[A\u001b[A\n",
            "\n",
            "16it [00:11,  1.43it/s]\u001b[A\u001b[A\n",
            "\n",
            "17it [00:11,  1.43it/s]\u001b[A\u001b[A\n",
            "\n",
            "18it [00:12,  1.43it/s]\u001b[A\u001b[A\n",
            "\n",
            "19it [00:13,  1.42it/s]\u001b[A\u001b[A\n",
            "\n",
            "20it [00:13,  1.43it/s]\n",
            "\n",
            "\n",
            "0it [00:00, ?it/s]\u001b[A\u001b[A"
          ],
          "name": "stderr"
        },
        {
          "output_type": "stream",
          "text": [
            "Current Epoch: 11\n",
            "Training Loss: 0.561407 \t Accuracy: 0.990177\n"
          ],
          "name": "stdout"
        },
        {
          "output_type": "stream",
          "text": [
            "\n",
            "\n",
            "1it [00:00,  1.43it/s]\u001b[A\u001b[A\n",
            "\n",
            "2it [00:01,  1.43it/s]\u001b[A\u001b[A\n",
            "\n",
            "3it [00:02,  1.43it/s]\u001b[A\u001b[A\n",
            "\n",
            "4it [00:02,  1.43it/s]\u001b[A\u001b[A\n",
            "\n",
            "5it [00:03,  1.44it/s]\u001b[A\u001b[A\n",
            "\n",
            "6it [00:04,  1.43it/s]\u001b[A\u001b[A\n",
            "\n",
            "7it [00:04,  1.42it/s]\u001b[A\u001b[A\n",
            "\n",
            "8it [00:05,  1.42it/s]\u001b[A\u001b[A\n",
            "\n",
            "9it [00:06,  1.42it/s]\u001b[A\u001b[A\n",
            "\n",
            "10it [00:06,  1.43it/s]\u001b[A\u001b[A\n",
            "\n",
            "11it [00:07,  1.43it/s]\u001b[A\u001b[A\n",
            "\n",
            "12it [00:08,  1.44it/s]\u001b[A\u001b[A\n",
            "\n",
            "13it [00:09,  1.43it/s]\u001b[A\u001b[A\n",
            "\n",
            "14it [00:09,  1.42it/s]\u001b[A\u001b[A\n",
            "\n",
            "15it [00:10,  1.42it/s]\u001b[A\u001b[A\n",
            "\n",
            "16it [00:11,  1.40it/s]\u001b[A\u001b[A\n",
            "\n",
            "17it [00:11,  1.38it/s]\u001b[A\u001b[A\n",
            "\n",
            "18it [00:12,  1.38it/s]\u001b[A\u001b[A\n",
            "\n",
            "19it [00:13,  1.38it/s]\u001b[A\u001b[A\n",
            "\n",
            "20it [00:14,  1.42it/s]\n",
            "\n",
            "\n",
            "0it [00:00, ?it/s]\u001b[A\u001b[A"
          ],
          "name": "stderr"
        },
        {
          "output_type": "stream",
          "text": [
            "Current Epoch: 12\n",
            "Training Loss: 0.557104 \t Accuracy: 0.994892\n"
          ],
          "name": "stdout"
        },
        {
          "output_type": "stream",
          "text": [
            "\n",
            "\n",
            "1it [00:00,  1.38it/s]\u001b[A\u001b[A\n",
            "\n",
            "2it [00:01,  1.37it/s]\u001b[A\u001b[A\n",
            "\n",
            "3it [00:02,  1.38it/s]\u001b[A\u001b[A\n",
            "\n",
            "4it [00:02,  1.39it/s]\u001b[A\u001b[A\n",
            "\n",
            "5it [00:03,  1.38it/s]\u001b[A\u001b[A\n",
            "\n",
            "6it [00:04,  1.39it/s]\u001b[A\u001b[A\n",
            "\n",
            "7it [00:05,  1.39it/s]\u001b[A\u001b[A\n",
            "\n",
            "8it [00:05,  1.39it/s]\u001b[A\u001b[A\n",
            "\n",
            "9it [00:06,  1.38it/s]\u001b[A\u001b[A\n",
            "\n",
            "10it [00:07,  1.39it/s]\u001b[A\u001b[A\n",
            "\n",
            "11it [00:07,  1.39it/s]\u001b[A\u001b[A\n",
            "\n",
            "12it [00:08,  1.39it/s]\u001b[A\u001b[A\n",
            "\n",
            "13it [00:09,  1.41it/s]\u001b[A\u001b[A\n",
            "\n",
            "14it [00:10,  1.42it/s]\u001b[A\u001b[A\n",
            "\n",
            "15it [00:10,  1.42it/s]\u001b[A\u001b[A\n",
            "\n",
            "16it [00:11,  1.42it/s]\u001b[A\u001b[A\n",
            "\n",
            "17it [00:12,  1.42it/s]\u001b[A\u001b[A\n",
            "\n",
            "18it [00:12,  1.42it/s]\u001b[A\u001b[A\n",
            "\n",
            "19it [00:13,  1.43it/s]\u001b[A\u001b[A\n",
            "\n",
            "20it [00:14,  1.41it/s]\n",
            "\n",
            "\n",
            "0it [00:00, ?it/s]\u001b[A\u001b[A"
          ],
          "name": "stderr"
        },
        {
          "output_type": "stream",
          "text": [
            "Current Epoch: 13\n",
            "Training Loss: 0.557108 \t Accuracy: 0.994499\n"
          ],
          "name": "stdout"
        },
        {
          "output_type": "stream",
          "text": [
            "\n",
            "\n",
            "1it [00:00,  1.43it/s]\u001b[A\u001b[A\n",
            "\n",
            "2it [00:01,  1.43it/s]\u001b[A\u001b[A\n",
            "\n",
            "3it [00:02,  1.44it/s]\u001b[A\u001b[A\n",
            "\n",
            "4it [00:02,  1.43it/s]\u001b[A\u001b[A\n",
            "\n",
            "5it [00:03,  1.42it/s]\u001b[A\u001b[A\n",
            "\n",
            "6it [00:04,  1.42it/s]\u001b[A\u001b[A\n",
            "\n",
            "7it [00:04,  1.42it/s]\u001b[A\u001b[A\n",
            "\n",
            "8it [00:05,  1.43it/s]\u001b[A\u001b[A\n",
            "\n",
            "9it [00:06,  1.43it/s]\u001b[A\u001b[A\n",
            "\n",
            "10it [00:07,  1.43it/s]\u001b[A\u001b[A\n",
            "\n",
            "11it [00:07,  1.42it/s]\u001b[A\u001b[A\n",
            "\n",
            "12it [00:08,  1.43it/s]\u001b[A\u001b[A\n",
            "\n",
            "13it [00:09,  1.43it/s]\u001b[A\u001b[A\n",
            "\n",
            "14it [00:09,  1.43it/s]\u001b[A\u001b[A\n",
            "\n",
            "15it [00:10,  1.43it/s]\u001b[A\u001b[A\n",
            "\n",
            "16it [00:11,  1.43it/s]\u001b[A\u001b[A\n",
            "\n",
            "17it [00:11,  1.43it/s]\u001b[A\u001b[A\n",
            "\n",
            "18it [00:12,  1.41it/s]\u001b[A\u001b[A\n",
            "\n",
            "19it [00:13,  1.42it/s]\u001b[A\u001b[A\n",
            "\n",
            "20it [00:13,  1.43it/s]\n",
            "\n",
            "\n",
            "0it [00:00, ?it/s]\u001b[A\u001b[A"
          ],
          "name": "stderr"
        },
        {
          "output_type": "stream",
          "text": [
            "Current Epoch: 14\n",
            "Training Loss: 0.555473 \t Accuracy: 0.996071\n"
          ],
          "name": "stdout"
        },
        {
          "output_type": "stream",
          "text": [
            "\n",
            "\n",
            "1it [00:00,  1.39it/s]\u001b[A\u001b[A\n",
            "\n",
            "2it [00:01,  1.40it/s]\u001b[A\u001b[A\n",
            "\n",
            "3it [00:02,  1.41it/s]\u001b[A\u001b[A\n",
            "\n",
            "4it [00:02,  1.42it/s]\u001b[A\u001b[A\n",
            "\n",
            "5it [00:03,  1.42it/s]\u001b[A\u001b[A\n",
            "\n",
            "6it [00:04,  1.43it/s]\u001b[A\u001b[A\n",
            "\n",
            "7it [00:04,  1.43it/s]\u001b[A\u001b[A\n",
            "\n",
            "8it [00:05,  1.42it/s]\u001b[A\u001b[A\n",
            "\n",
            "9it [00:06,  1.42it/s]\u001b[A\u001b[A\n",
            "\n",
            "10it [00:07,  1.42it/s]\u001b[A\u001b[A\n",
            "\n",
            "11it [00:07,  1.42it/s]\u001b[A\u001b[A\n",
            "\n",
            "12it [00:08,  1.42it/s]\u001b[A\u001b[A\n",
            "\n",
            "13it [00:09,  1.42it/s]\u001b[A\u001b[A\n",
            "\n",
            "14it [00:09,  1.42it/s]\u001b[A\u001b[A\n",
            "\n",
            "15it [00:10,  1.43it/s]\u001b[A\u001b[A\n",
            "\n",
            "16it [00:11,  1.42it/s]\u001b[A\u001b[A\n",
            "\n",
            "17it [00:11,  1.42it/s]\u001b[A\u001b[A\n",
            "\n",
            "18it [00:12,  1.41it/s]\u001b[A\u001b[A\n",
            "\n",
            "19it [00:13,  1.42it/s]\u001b[A\u001b[A\n",
            "\n",
            "20it [00:13,  1.43it/s]\n",
            "\n",
            "\n",
            "0it [00:00, ?it/s]\u001b[A\u001b[A"
          ],
          "name": "stderr"
        },
        {
          "output_type": "stream",
          "text": [
            "Current Epoch: 15\n",
            "Training Loss: 0.554733 \t Accuracy: 0.996464\n"
          ],
          "name": "stdout"
        },
        {
          "output_type": "stream",
          "text": [
            "\n",
            "\n",
            "1it [00:00,  1.45it/s]\u001b[A\u001b[A\n",
            "\n",
            "2it [00:01,  1.44it/s]\u001b[A\u001b[A\n",
            "\n",
            "3it [00:02,  1.44it/s]\u001b[A\u001b[A\n",
            "\n",
            "4it [00:02,  1.44it/s]\u001b[A\u001b[A\n",
            "\n",
            "5it [00:03,  1.43it/s]\u001b[A\u001b[A\n",
            "\n",
            "6it [00:04,  1.43it/s]\u001b[A\u001b[A\n",
            "\n",
            "7it [00:04,  1.44it/s]\u001b[A\u001b[A\n",
            "\n",
            "8it [00:05,  1.44it/s]\u001b[A\u001b[A\n",
            "\n",
            "9it [00:06,  1.44it/s]\u001b[A\u001b[A\n",
            "\n",
            "10it [00:06,  1.42it/s]\u001b[A\u001b[A\n",
            "\n",
            "11it [00:07,  1.41it/s]\u001b[A\u001b[A\n",
            "\n",
            "12it [00:08,  1.43it/s]\u001b[A\u001b[A\n",
            "\n",
            "13it [00:09,  1.42it/s]\u001b[A\u001b[A\n",
            "\n",
            "14it [00:09,  1.40it/s]\u001b[A\u001b[A\n",
            "\n",
            "15it [00:10,  1.40it/s]\u001b[A\u001b[A\n",
            "\n",
            "16it [00:11,  1.41it/s]\u001b[A\u001b[A\n",
            "\n",
            "17it [00:11,  1.40it/s]\u001b[A\u001b[A\n",
            "\n",
            "18it [00:12,  1.40it/s]\u001b[A\u001b[A\n",
            "\n",
            "19it [00:13,  1.40it/s]\u001b[A\u001b[A\n",
            "\n",
            "20it [00:14,  1.43it/s]\n",
            "\n",
            "\n",
            "0it [00:00, ?it/s]\u001b[A\u001b[A"
          ],
          "name": "stderr"
        },
        {
          "output_type": "stream",
          "text": [
            "Current Epoch: 16\n",
            "Training Loss: 0.555636 \t Accuracy: 0.995285\n"
          ],
          "name": "stdout"
        },
        {
          "output_type": "stream",
          "text": [
            "\n",
            "\n",
            "1it [00:00,  1.42it/s]\u001b[A\u001b[A\n",
            "\n",
            "2it [00:01,  1.43it/s]\u001b[A\u001b[A\n",
            "\n",
            "3it [00:02,  1.43it/s]\u001b[A\u001b[A\n",
            "\n",
            "4it [00:02,  1.43it/s]\u001b[A\u001b[A\n",
            "\n",
            "5it [00:03,  1.42it/s]\u001b[A\u001b[A\n",
            "\n",
            "6it [00:04,  1.41it/s]\u001b[A\u001b[A\n",
            "\n",
            "7it [00:04,  1.41it/s]\u001b[A\u001b[A\n",
            "\n",
            "8it [00:05,  1.42it/s]\u001b[A\u001b[A\n",
            "\n",
            "9it [00:06,  1.41it/s]\u001b[A\u001b[A\n",
            "\n",
            "10it [00:07,  1.40it/s]\u001b[A\u001b[A\n",
            "\n",
            "11it [00:07,  1.38it/s]\u001b[A\u001b[A\n",
            "\n",
            "12it [00:08,  1.39it/s]\u001b[A\u001b[A\n",
            "\n",
            "13it [00:09,  1.40it/s]\u001b[A\u001b[A\n",
            "\n",
            "14it [00:09,  1.40it/s]\u001b[A\u001b[A\n",
            "\n",
            "15it [00:10,  1.40it/s]\u001b[A\u001b[A\n",
            "\n",
            "16it [00:11,  1.40it/s]\u001b[A\u001b[A\n",
            "\n",
            "17it [00:12,  1.40it/s]\u001b[A\u001b[A\n",
            "\n",
            "18it [00:12,  1.40it/s]\u001b[A\u001b[A\n",
            "\n",
            "19it [00:13,  1.40it/s]\u001b[A\u001b[A\n",
            "\n",
            "20it [00:14,  1.42it/s]\n",
            "\n",
            "\n",
            "0it [00:00, ?it/s]\u001b[A\u001b[A"
          ],
          "name": "stderr"
        },
        {
          "output_type": "stream",
          "text": [
            "Current Epoch: 17\n",
            "Training Loss: 0.554827 \t Accuracy: 0.996464\n"
          ],
          "name": "stdout"
        },
        {
          "output_type": "stream",
          "text": [
            "\n",
            "\n",
            "1it [00:00,  1.43it/s]\u001b[A\u001b[A\n",
            "\n",
            "2it [00:01,  1.42it/s]\u001b[A\u001b[A\n",
            "\n",
            "3it [00:02,  1.43it/s]\u001b[A\u001b[A\n",
            "\n",
            "4it [00:02,  1.43it/s]\u001b[A\u001b[A\n",
            "\n",
            "5it [00:03,  1.44it/s]\u001b[A\u001b[A\n",
            "\n",
            "6it [00:04,  1.42it/s]\u001b[A\u001b[A\n",
            "\n",
            "7it [00:04,  1.42it/s]\u001b[A\u001b[A\n",
            "\n",
            "8it [00:05,  1.43it/s]\u001b[A\u001b[A\n",
            "\n",
            "9it [00:06,  1.42it/s]\u001b[A\u001b[A\n",
            "\n",
            "10it [00:07,  1.43it/s]\u001b[A\u001b[A\n",
            "\n",
            "11it [00:07,  1.43it/s]\u001b[A\u001b[A\n",
            "\n",
            "12it [00:08,  1.43it/s]\u001b[A\u001b[A\n",
            "\n",
            "13it [00:09,  1.42it/s]\u001b[A\u001b[A\n",
            "\n",
            "14it [00:09,  1.43it/s]\u001b[A\u001b[A\n",
            "\n",
            "15it [00:10,  1.42it/s]\u001b[A\u001b[A\n",
            "\n",
            "16it [00:11,  1.43it/s]\u001b[A\u001b[A\n",
            "\n",
            "17it [00:11,  1.43it/s]\u001b[A\u001b[A\n",
            "\n",
            "18it [00:12,  1.43it/s]\u001b[A\u001b[A\n",
            "\n",
            "19it [00:13,  1.42it/s]\u001b[A\u001b[A\n",
            "\n",
            "20it [00:13,  1.43it/s]\n",
            "\n",
            "\n",
            "0it [00:00, ?it/s]\u001b[A\u001b[A"
          ],
          "name": "stderr"
        },
        {
          "output_type": "stream",
          "text": [
            "Current Epoch: 18\n",
            "Training Loss: 0.554332 \t Accuracy: 0.99725\n"
          ],
          "name": "stdout"
        },
        {
          "output_type": "stream",
          "text": [
            "\n",
            "\n",
            "1it [00:00,  1.44it/s]\u001b[A\u001b[A\n",
            "\n",
            "2it [00:01,  1.43it/s]\u001b[A\u001b[A\n",
            "\n",
            "3it [00:02,  1.43it/s]\u001b[A\u001b[A\n",
            "\n",
            "4it [00:02,  1.41it/s]\u001b[A\u001b[A\n",
            "\n",
            "5it [00:03,  1.41it/s]\u001b[A\u001b[A\n",
            "\n",
            "6it [00:04,  1.42it/s]\u001b[A\u001b[A\n",
            "\n",
            "7it [00:04,  1.42it/s]\u001b[A\u001b[A\n",
            "\n",
            "8it [00:05,  1.43it/s]\u001b[A\u001b[A\n",
            "\n",
            "9it [00:06,  1.41it/s]\u001b[A\u001b[A\n",
            "\n",
            "10it [00:07,  1.42it/s]\u001b[A\u001b[A\n",
            "\n",
            "11it [00:07,  1.42it/s]\u001b[A\u001b[A\n",
            "\n",
            "12it [00:08,  1.42it/s]\u001b[A\u001b[A\n",
            "\n",
            "13it [00:09,  1.42it/s]\u001b[A\u001b[A\n",
            "\n",
            "14it [00:09,  1.42it/s]\u001b[A\u001b[A\n",
            "\n",
            "15it [00:10,  1.41it/s]\u001b[A\u001b[A\n",
            "\n",
            "16it [00:11,  1.42it/s]\u001b[A\u001b[A\n",
            "\n",
            "17it [00:11,  1.44it/s]\u001b[A\u001b[A\n",
            "\n",
            "18it [00:12,  1.44it/s]\u001b[A\u001b[A\n",
            "\n",
            "19it [00:13,  1.44it/s]\u001b[A\u001b[A\n",
            "\n",
            "20it [00:13,  1.43it/s]\n",
            "\n",
            "\n",
            "0it [00:00, ?it/s]\u001b[A\u001b[A"
          ],
          "name": "stderr"
        },
        {
          "output_type": "stream",
          "text": [
            "Current Epoch: 19\n",
            "Training Loss: 0.554594 \t Accuracy: 0.996857\n"
          ],
          "name": "stdout"
        },
        {
          "output_type": "stream",
          "text": [
            "\n",
            "\n",
            "1it [00:00,  1.43it/s]\u001b[A\u001b[A\n",
            "\n",
            "2it [00:01,  1.41it/s]\u001b[A\u001b[A\n",
            "\n",
            "3it [00:02,  1.41it/s]\u001b[A\u001b[A\n",
            "\n",
            "4it [00:02,  1.42it/s]\u001b[A\u001b[A\n",
            "\n",
            "5it [00:03,  1.42it/s]\u001b[A\u001b[A\n",
            "\n",
            "6it [00:04,  1.42it/s]\u001b[A\u001b[A\n",
            "\n",
            "7it [00:04,  1.42it/s]\u001b[A\u001b[A\n",
            "\n",
            "8it [00:05,  1.43it/s]\u001b[A\u001b[A\n",
            "\n",
            "9it [00:06,  1.43it/s]\u001b[A\u001b[A\n",
            "\n",
            "10it [00:07,  1.43it/s]\u001b[A\u001b[A\n",
            "\n",
            "11it [00:07,  1.43it/s]\u001b[A\u001b[A\n",
            "\n",
            "12it [00:08,  1.43it/s]\u001b[A\u001b[A\n",
            "\n",
            "13it [00:09,  1.43it/s]\u001b[A\u001b[A\n",
            "\n",
            "14it [00:09,  1.43it/s]\u001b[A\u001b[A\n",
            "\n",
            "15it [00:10,  1.42it/s]\u001b[A\u001b[A\n",
            "\n",
            "16it [00:11,  1.43it/s]\u001b[A\u001b[A\n",
            "\n",
            "17it [00:11,  1.43it/s]\u001b[A\u001b[A\n",
            "\n",
            "18it [00:12,  1.43it/s]\u001b[A\u001b[A\n",
            "\n",
            "19it [00:13,  1.43it/s]\u001b[A\u001b[A\n",
            "\n",
            "20it [00:13,  1.43it/s]\n",
            "\n",
            "\n",
            "0it [00:00, ?it/s]\u001b[A\u001b[A"
          ],
          "name": "stderr"
        },
        {
          "output_type": "stream",
          "text": [
            "Current Epoch: 20\n",
            "Training Loss: 0.555087 \t Accuracy: 0.996464\n"
          ],
          "name": "stdout"
        },
        {
          "output_type": "stream",
          "text": [
            "\n",
            "\n",
            "1it [00:00,  1.43it/s]\u001b[A\u001b[A\n",
            "\n",
            "2it [00:01,  1.43it/s]\u001b[A\u001b[A\n",
            "\n",
            "3it [00:02,  1.44it/s]\u001b[A\u001b[A\n",
            "\n",
            "4it [00:02,  1.43it/s]\u001b[A\u001b[A\n",
            "\n",
            "5it [00:03,  1.43it/s]\u001b[A\u001b[A\n",
            "\n",
            "6it [00:04,  1.43it/s]\u001b[A\u001b[A\n",
            "\n",
            "7it [00:04,  1.44it/s]\u001b[A\u001b[A\n",
            "\n",
            "8it [00:05,  1.44it/s]\u001b[A\u001b[A\n",
            "\n",
            "9it [00:06,  1.44it/s]\u001b[A\u001b[A\n",
            "\n",
            "10it [00:06,  1.44it/s]\u001b[A\u001b[A\n",
            "\n",
            "11it [00:07,  1.44it/s]\u001b[A\u001b[A\n",
            "\n",
            "12it [00:08,  1.41it/s]\u001b[A\u001b[A\n",
            "\n",
            "13it [00:09,  1.42it/s]\u001b[A\u001b[A\n",
            "\n",
            "14it [00:09,  1.42it/s]\u001b[A\u001b[A\n",
            "\n",
            "15it [00:10,  1.41it/s]\u001b[A\u001b[A\n",
            "\n",
            "16it [00:11,  1.41it/s]\u001b[A\u001b[A\n",
            "\n",
            "17it [00:11,  1.40it/s]\u001b[A\u001b[A\n",
            "\n",
            "18it [00:12,  1.40it/s]\u001b[A\u001b[A\n",
            "\n",
            "19it [00:13,  1.41it/s]\u001b[A\u001b[A\n",
            "\n",
            "20it [00:13,  1.43it/s]\n",
            "\n",
            "\n",
            "0it [00:00, ?it/s]\u001b[A\u001b[A"
          ],
          "name": "stderr"
        },
        {
          "output_type": "stream",
          "text": [
            "Current Epoch: 21\n",
            "Training Loss: 0.554288 \t Accuracy: 0.99725\n"
          ],
          "name": "stdout"
        },
        {
          "output_type": "stream",
          "text": [
            "\n",
            "\n",
            "1it [00:00,  1.42it/s]\u001b[A\u001b[A\n",
            "\n",
            "2it [00:01,  1.41it/s]\u001b[A\u001b[A\n",
            "\n",
            "3it [00:02,  1.41it/s]\u001b[A\u001b[A\n",
            "\n",
            "4it [00:02,  1.42it/s]\u001b[A\u001b[A\n",
            "\n",
            "5it [00:03,  1.42it/s]\u001b[A\u001b[A\n",
            "\n",
            "6it [00:04,  1.42it/s]\u001b[A\u001b[A\n",
            "\n",
            "7it [00:04,  1.41it/s]\u001b[A\u001b[A\n",
            "\n",
            "8it [00:05,  1.42it/s]\u001b[A\u001b[A\n",
            "\n",
            "9it [00:06,  1.41it/s]\u001b[A\u001b[A\n",
            "\n",
            "10it [00:07,  1.41it/s]\u001b[A\u001b[A\n",
            "\n",
            "11it [00:07,  1.41it/s]\u001b[A\u001b[A\n",
            "\n",
            "12it [00:08,  1.41it/s]\u001b[A\u001b[A\n",
            "\n",
            "13it [00:09,  1.41it/s]\u001b[A\u001b[A\n",
            "\n",
            "14it [00:09,  1.42it/s]\u001b[A\u001b[A\n",
            "\n",
            "15it [00:10,  1.42it/s]\u001b[A\u001b[A\n",
            "\n",
            "16it [00:11,  1.43it/s]\u001b[A\u001b[A\n",
            "\n",
            "17it [00:11,  1.43it/s]\u001b[A\u001b[A\n",
            "\n",
            "18it [00:12,  1.43it/s]\u001b[A\u001b[A\n",
            "\n",
            "19it [00:13,  1.43it/s]\u001b[A\u001b[A\n",
            "\n",
            "20it [00:14,  1.43it/s]\n",
            "\n",
            "\n",
            "0it [00:00, ?it/s]\u001b[A\u001b[A"
          ],
          "name": "stderr"
        },
        {
          "output_type": "stream",
          "text": [
            "Current Epoch: 22\n",
            "Training Loss: 0.555379 \t Accuracy: 0.996071\n"
          ],
          "name": "stdout"
        },
        {
          "output_type": "stream",
          "text": [
            "\n",
            "\n",
            "1it [00:00,  1.44it/s]\u001b[A\u001b[A\n",
            "\n",
            "2it [00:01,  1.44it/s]\u001b[A\u001b[A\n",
            "\n",
            "3it [00:02,  1.44it/s]\u001b[A\u001b[A\n",
            "\n",
            "4it [00:02,  1.44it/s]\u001b[A\u001b[A\n",
            "\n",
            "5it [00:03,  1.44it/s]\u001b[A\u001b[A\n",
            "\n",
            "6it [00:04,  1.44it/s]\u001b[A\u001b[A\n",
            "\n",
            "7it [00:04,  1.42it/s]\u001b[A\u001b[A\n",
            "\n",
            "8it [00:05,  1.43it/s]\u001b[A\u001b[A\n",
            "\n",
            "9it [00:06,  1.43it/s]\u001b[A\u001b[A\n",
            "\n",
            "10it [00:07,  1.41it/s]\u001b[A\u001b[A\n",
            "\n",
            "11it [00:07,  1.42it/s]\u001b[A\u001b[A\n",
            "\n",
            "12it [00:08,  1.42it/s]\u001b[A\u001b[A\n",
            "\n",
            "13it [00:09,  1.42it/s]\u001b[A\u001b[A\n",
            "\n",
            "14it [00:09,  1.42it/s]\u001b[A\u001b[A\n",
            "\n",
            "15it [00:10,  1.42it/s]\u001b[A\u001b[A\n",
            "\n",
            "16it [00:11,  1.43it/s]\u001b[A\u001b[A\n",
            "\n",
            "17it [00:11,  1.43it/s]\u001b[A\u001b[A\n",
            "\n",
            "18it [00:12,  1.43it/s]\u001b[A\u001b[A\n",
            "\n",
            "19it [00:13,  1.42it/s]\u001b[A\u001b[A\n",
            "\n",
            "20it [00:13,  1.43it/s]\n",
            "\n",
            "\n",
            "0it [00:00, ?it/s]\u001b[A\u001b[A"
          ],
          "name": "stderr"
        },
        {
          "output_type": "stream",
          "text": [
            "Current Epoch: 23\n",
            "Training Loss: 0.554725 \t Accuracy: 0.996857\n"
          ],
          "name": "stdout"
        },
        {
          "output_type": "stream",
          "text": [
            "\n",
            "\n",
            "1it [00:00,  1.42it/s]\u001b[A\u001b[A\n",
            "\n",
            "2it [00:01,  1.42it/s]\u001b[A\u001b[A\n",
            "\n",
            "3it [00:02,  1.42it/s]\u001b[A\u001b[A\n",
            "\n",
            "4it [00:02,  1.42it/s]\u001b[A\u001b[A\n",
            "\n",
            "5it [00:03,  1.42it/s]\u001b[A\u001b[A\n",
            "\n",
            "6it [00:04,  1.42it/s]\u001b[A\u001b[A\n",
            "\n",
            "7it [00:04,  1.43it/s]\u001b[A\u001b[A\n",
            "\n",
            "8it [00:05,  1.43it/s]\u001b[A\u001b[A\n",
            "\n",
            "9it [00:06,  1.43it/s]\u001b[A\u001b[A\n",
            "\n",
            "10it [00:07,  1.43it/s]\u001b[A\u001b[A\n",
            "\n",
            "11it [00:07,  1.43it/s]\u001b[A\u001b[A\n",
            "\n",
            "12it [00:08,  1.42it/s]\u001b[A\u001b[A\n",
            "\n",
            "13it [00:09,  1.42it/s]\u001b[A\u001b[A\n",
            "\n",
            "14it [00:09,  1.43it/s]\u001b[A\u001b[A\n",
            "\n",
            "15it [00:10,  1.42it/s]\u001b[A\u001b[A\n",
            "\n",
            "16it [00:11,  1.42it/s]\u001b[A\u001b[A\n",
            "\n",
            "17it [00:11,  1.43it/s]\u001b[A\u001b[A\n",
            "\n",
            "18it [00:12,  1.42it/s]\u001b[A\u001b[A\n",
            "\n",
            "19it [00:13,  1.42it/s]\u001b[A\u001b[A\n",
            "\n",
            "20it [00:13,  1.43it/s]\n",
            "\n",
            "\n",
            "0it [00:00, ?it/s]\u001b[A\u001b[A"
          ],
          "name": "stderr"
        },
        {
          "output_type": "stream",
          "text": [
            "Current Epoch: 24\n",
            "Training Loss: 0.664394 \t Accuracy: 0.886837\n"
          ],
          "name": "stdout"
        },
        {
          "output_type": "stream",
          "text": [
            "\n",
            "\n",
            "1it [00:00,  1.44it/s]\u001b[A\u001b[A\n",
            "\n",
            "2it [00:01,  1.44it/s]\u001b[A\u001b[A\n",
            "\n",
            "3it [00:02,  1.45it/s]\u001b[A\u001b[A\n",
            "\n",
            "4it [00:02,  1.45it/s]\u001b[A\u001b[A\n",
            "\n",
            "5it [00:03,  1.44it/s]\u001b[A\u001b[A\n",
            "\n",
            "6it [00:04,  1.44it/s]\u001b[A\u001b[A\n",
            "\n",
            "7it [00:04,  1.44it/s]\u001b[A\u001b[A\n",
            "\n",
            "8it [00:05,  1.43it/s]\u001b[A\u001b[A\n",
            "\n",
            "9it [00:06,  1.43it/s]\u001b[A\u001b[A\n",
            "\n",
            "10it [00:06,  1.44it/s]\u001b[A\u001b[A\n",
            "\n",
            "11it [00:07,  1.43it/s]\u001b[A\u001b[A\n",
            "\n",
            "12it [00:08,  1.43it/s]\u001b[A\u001b[A\n",
            "\n",
            "13it [00:09,  1.42it/s]\u001b[A\u001b[A\n",
            "\n",
            "14it [00:09,  1.41it/s]\u001b[A\u001b[A\n",
            "\n",
            "15it [00:10,  1.40it/s]\u001b[A\u001b[A\n",
            "\n",
            "16it [00:11,  1.41it/s]\u001b[A\u001b[A\n",
            "\n",
            "17it [00:11,  1.42it/s]\u001b[A\u001b[A\n",
            "\n",
            "18it [00:12,  1.42it/s]\u001b[A\u001b[A\n",
            "\n",
            "19it [00:13,  1.43it/s]\u001b[A\u001b[A\n",
            "\n",
            "20it [00:13,  1.44it/s]\n"
          ],
          "name": "stderr"
        },
        {
          "output_type": "stream",
          "text": [
            "Current Epoch: 25\n",
            "Training Loss: 1.124395 \t Accuracy: 0.427112\n",
            "Saving New Model\n"
          ],
          "name": "stdout"
        }
      ]
    },
    {
      "cell_type": "code",
      "metadata": {
        "colab": {
          "base_uri": "https://localhost:8080/"
        },
        "id": "mzKL7x6Yb9uP",
        "outputId": "251a32dc-0e32-4da2-d647-c15fde960930"
      },
      "source": [
        "torch.save(model.state_dict(), '/content/drive/MyDrive/Rock-Paper-Scissors/trained_model.pt')\r\n",
        "print('Saving New Model')"
      ],
      "execution_count": 53,
      "outputs": [
        {
          "output_type": "stream",
          "text": [
            "Saving New Model\n"
          ],
          "name": "stdout"
        }
      ]
    },
    {
      "cell_type": "code",
      "metadata": {
        "colab": {
          "base_uri": "https://localhost:8080/"
        },
        "id": "a2PFnDjPEhO4",
        "outputId": "49bcc5bf-cd0c-4584-ea2b-aa9326ee0d00"
      },
      "source": [
        "# EPOCHS = 100\r\n",
        "# BATCH_SIZE = 16\r\n",
        "# # data_train = DataLoader(dataset = data, batch_size = BATCH_SIZE, shuffle =False)\r\n",
        "\r\n",
        "# for epoch in range(EPOCHS):\r\n",
        "#     net.train()\r\n",
        "#     epoch_loss = 0\r\n",
        "#     correct = 0\r\n",
        "#     for bidx, batch in tqdm(enumerate(trainLoader)):\r\n",
        "#         x_train, y_train = batch['input'], batch['output']\r\n",
        "#         # x_train, y_train = toTensor(x_train), toTensor(y_train)\r\n",
        "#         # x_train = x_train.view(-1,8)\r\n",
        "#         # print(x_train.size())\r\n",
        "#         x_train = x_train.float()\r\n",
        "#         x_train = x_train.to(device)\r\n",
        "#         y_train = y_train.to(device)\r\n",
        "#         loss, predictions = train(net, x_train, y_train, optm, criterion)\r\n",
        "#         for idx, i in enumerate(predictions):\r\n",
        "#             i  = torch.argmax(i)\r\n",
        "#             if i == y_train[idx]:\r\n",
        "#                 correct += 1\r\n",
        "#         acc = (correct/len(trainDataset))\r\n",
        "#         epoch_loss+=loss\r\n",
        "#     print('Epoch {} Accuracy : {}'.format(epoch+1, acc*100))\r\n",
        "#     print('Epoch {} Loss : {}'.format((epoch+1),epoch_loss))"
      ],
      "execution_count": 14,
      "outputs": [
        {
          "output_type": "stream",
          "text": [
            "160it [21:31,  8.07s/it]\n",
            "0it [00:00, ?it/s]"
          ],
          "name": "stderr"
        },
        {
          "output_type": "stream",
          "text": [
            "Epoch 1 Accuracy : 32.73084479371317\n",
            "Epoch 1 Loss : 196.17051696777344\n"
          ],
          "name": "stdout"
        },
        {
          "output_type": "stream",
          "text": [
            "160it [00:30,  5.20it/s]\n",
            "1it [00:00,  5.34it/s]"
          ],
          "name": "stderr"
        },
        {
          "output_type": "stream",
          "text": [
            "Epoch 2 Accuracy : 33.516699410609036\n",
            "Epoch 2 Loss : 194.91827392578125\n"
          ],
          "name": "stdout"
        },
        {
          "output_type": "stream",
          "text": [
            "160it [00:30,  5.19it/s]\n",
            "1it [00:00,  5.28it/s]"
          ],
          "name": "stderr"
        },
        {
          "output_type": "stream",
          "text": [
            "Epoch 3 Accuracy : 33.35952848722986\n",
            "Epoch 3 Loss : 194.20303344726562\n"
          ],
          "name": "stdout"
        },
        {
          "output_type": "stream",
          "text": [
            "160it [00:30,  5.24it/s]\n",
            "1it [00:00,  5.35it/s]"
          ],
          "name": "stderr"
        },
        {
          "output_type": "stream",
          "text": [
            "Epoch 4 Accuracy : 34.22396856581532\n",
            "Epoch 4 Loss : 193.7828369140625\n"
          ],
          "name": "stdout"
        },
        {
          "output_type": "stream",
          "text": [
            "160it [00:30,  5.23it/s]\n",
            "1it [00:00,  5.27it/s]"
          ],
          "name": "stderr"
        },
        {
          "output_type": "stream",
          "text": [
            "Epoch 5 Accuracy : 34.145383104125735\n",
            "Epoch 5 Loss : 193.91827392578125\n"
          ],
          "name": "stdout"
        },
        {
          "output_type": "stream",
          "text": [
            "160it [00:30,  5.22it/s]\n",
            "1it [00:00,  5.31it/s]"
          ],
          "name": "stderr"
        },
        {
          "output_type": "stream",
          "text": [
            "Epoch 6 Accuracy : 33.39882121807465\n",
            "Epoch 6 Loss : 194.20127868652344\n"
          ],
          "name": "stdout"
        },
        {
          "output_type": "stream",
          "text": [
            "160it [00:30,  5.23it/s]\n",
            "1it [00:00,  5.15it/s]"
          ],
          "name": "stderr"
        },
        {
          "output_type": "stream",
          "text": [
            "Epoch 7 Accuracy : 33.47740667976424\n",
            "Epoch 7 Loss : 193.9642333984375\n"
          ],
          "name": "stdout"
        },
        {
          "output_type": "stream",
          "text": [
            "160it [00:30,  5.22it/s]\n",
            "1it [00:00,  5.29it/s]"
          ],
          "name": "stderr"
        },
        {
          "output_type": "stream",
          "text": [
            "Epoch 8 Accuracy : 34.02750491159136\n",
            "Epoch 8 Loss : 193.99620056152344\n"
          ],
          "name": "stdout"
        },
        {
          "output_type": "stream",
          "text": [
            "160it [00:30,  5.23it/s]\n",
            "1it [00:00,  5.38it/s]"
          ],
          "name": "stderr"
        },
        {
          "output_type": "stream",
          "text": [
            "Epoch 9 Accuracy : 33.43811394891945\n",
            "Epoch 9 Loss : 194.89402770996094\n"
          ],
          "name": "stdout"
        },
        {
          "output_type": "stream",
          "text": [
            "160it [00:30,  5.21it/s]\n",
            "1it [00:00,  5.31it/s]"
          ],
          "name": "stderr"
        },
        {
          "output_type": "stream",
          "text": [
            "Epoch 10 Accuracy : 33.713163064833005\n",
            "Epoch 10 Loss : 194.5780029296875\n"
          ],
          "name": "stdout"
        },
        {
          "output_type": "stream",
          "text": [
            "160it [00:31,  5.15it/s]\n",
            "1it [00:00,  5.35it/s]"
          ],
          "name": "stderr"
        },
        {
          "output_type": "stream",
          "text": [
            "Epoch 11 Accuracy : 34.53831041257367\n",
            "Epoch 11 Loss : 193.2386932373047\n"
          ],
          "name": "stdout"
        },
        {
          "output_type": "stream",
          "text": [
            "160it [00:30,  5.22it/s]\n",
            "1it [00:00,  5.29it/s]"
          ],
          "name": "stderr"
        },
        {
          "output_type": "stream",
          "text": [
            "Epoch 12 Accuracy : 32.73084479371317\n",
            "Epoch 12 Loss : 194.98995971679688\n"
          ],
          "name": "stdout"
        },
        {
          "output_type": "stream",
          "text": [
            "160it [00:30,  5.18it/s]\n",
            "1it [00:00,  5.29it/s]"
          ],
          "name": "stderr"
        },
        {
          "output_type": "stream",
          "text": [
            "Epoch 13 Accuracy : 33.63457760314342\n",
            "Epoch 13 Loss : 194.72604370117188\n"
          ],
          "name": "stdout"
        },
        {
          "output_type": "stream",
          "text": [
            "160it [00:30,  5.22it/s]\n",
            "1it [00:00,  5.33it/s]"
          ],
          "name": "stderr"
        },
        {
          "output_type": "stream",
          "text": [
            "Epoch 14 Accuracy : 32.45579567779961\n",
            "Epoch 14 Loss : 196.51048278808594\n"
          ],
          "name": "stdout"
        },
        {
          "output_type": "stream",
          "text": [
            "160it [00:30,  5.24it/s]\n",
            "1it [00:00,  5.36it/s]"
          ],
          "name": "stderr"
        },
        {
          "output_type": "stream",
          "text": [
            "Epoch 15 Accuracy : 33.280943025540275\n",
            "Epoch 15 Loss : 195.3043975830078\n"
          ],
          "name": "stdout"
        },
        {
          "output_type": "stream",
          "text": [
            "160it [00:30,  5.22it/s]\n",
            "1it [00:00,  5.24it/s]"
          ],
          "name": "stderr"
        },
        {
          "output_type": "stream",
          "text": [
            "Epoch 16 Accuracy : 33.1630648330059\n",
            "Epoch 16 Loss : 195.32106018066406\n"
          ],
          "name": "stdout"
        },
        {
          "output_type": "stream",
          "text": [
            "160it [00:30,  5.23it/s]\n",
            "0it [00:00, ?it/s]"
          ],
          "name": "stderr"
        },
        {
          "output_type": "stream",
          "text": [
            "Epoch 17 Accuracy : 32.73084479371317\n",
            "Epoch 17 Loss : 196.092529296875\n"
          ],
          "name": "stdout"
        },
        {
          "output_type": "stream",
          "text": [
            "160it [00:30,  5.22it/s]\n",
            "0it [00:00, ?it/s]"
          ],
          "name": "stderr"
        },
        {
          "output_type": "stream",
          "text": [
            "Epoch 18 Accuracy : 33.39882121807465\n",
            "Epoch 18 Loss : 195.06044006347656\n"
          ],
          "name": "stdout"
        },
        {
          "output_type": "stream",
          "text": [
            "160it [00:30,  5.24it/s]\n",
            "1it [00:00,  5.26it/s]"
          ],
          "name": "stderr"
        },
        {
          "output_type": "stream",
          "text": [
            "Epoch 19 Accuracy : 33.084479371316306\n",
            "Epoch 19 Loss : 194.62850952148438\n"
          ],
          "name": "stdout"
        },
        {
          "output_type": "stream",
          "text": [
            "160it [00:30,  5.24it/s]\n",
            "1it [00:00,  5.33it/s]"
          ],
          "name": "stderr"
        },
        {
          "output_type": "stream",
          "text": [
            "Epoch 20 Accuracy : 33.79174852652259\n",
            "Epoch 20 Loss : 194.4393310546875\n"
          ],
          "name": "stdout"
        },
        {
          "output_type": "stream",
          "text": [
            "160it [00:31,  5.14it/s]\n",
            "0it [00:00, ?it/s]"
          ],
          "name": "stderr"
        },
        {
          "output_type": "stream",
          "text": [
            "Epoch 21 Accuracy : 34.22396856581532\n",
            "Epoch 21 Loss : 193.82640075683594\n"
          ],
          "name": "stdout"
        },
        {
          "output_type": "stream",
          "text": [
            "160it [00:30,  5.22it/s]\n",
            "1it [00:00,  5.19it/s]"
          ],
          "name": "stderr"
        },
        {
          "output_type": "stream",
          "text": [
            "Epoch 22 Accuracy : 32.53438113948919\n",
            "Epoch 22 Loss : 196.3763427734375\n"
          ],
          "name": "stdout"
        },
        {
          "output_type": "stream",
          "text": [
            "160it [00:30,  5.21it/s]\n",
            "1it [00:00,  5.39it/s]"
          ],
          "name": "stderr"
        },
        {
          "output_type": "stream",
          "text": [
            "Epoch 23 Accuracy : 32.416502946954814\n",
            "Epoch 23 Loss : 196.6935577392578\n"
          ],
          "name": "stdout"
        },
        {
          "output_type": "stream",
          "text": [
            "160it [00:30,  5.23it/s]\n",
            "1it [00:00,  5.28it/s]"
          ],
          "name": "stderr"
        },
        {
          "output_type": "stream",
          "text": [
            "Epoch 24 Accuracy : 33.90962671905697\n",
            "Epoch 24 Loss : 193.48692321777344\n"
          ],
          "name": "stdout"
        },
        {
          "output_type": "stream",
          "text": [
            "160it [00:30,  5.23it/s]\n",
            "1it [00:00,  5.17it/s]"
          ],
          "name": "stderr"
        },
        {
          "output_type": "stream",
          "text": [
            "Epoch 25 Accuracy : 34.656188605108056\n",
            "Epoch 25 Loss : 193.07310485839844\n"
          ],
          "name": "stdout"
        },
        {
          "output_type": "stream",
          "text": [
            "160it [00:30,  5.23it/s]\n",
            "1it [00:00,  5.34it/s]"
          ],
          "name": "stderr"
        },
        {
          "output_type": "stream",
          "text": [
            "Epoch 26 Accuracy : 32.848722986247544\n",
            "Epoch 26 Loss : 195.8929443359375\n"
          ],
          "name": "stdout"
        },
        {
          "output_type": "stream",
          "text": [
            "160it [00:30,  5.26it/s]\n",
            "1it [00:00,  5.28it/s]"
          ],
          "name": "stderr"
        },
        {
          "output_type": "stream",
          "text": [
            "Epoch 27 Accuracy : 32.45579567779961\n",
            "Epoch 27 Loss : 195.63050842285156\n"
          ],
          "name": "stdout"
        },
        {
          "output_type": "stream",
          "text": [
            "160it [00:30,  5.24it/s]\n",
            "1it [00:00,  5.21it/s]"
          ],
          "name": "stderr"
        },
        {
          "output_type": "stream",
          "text": [
            "Epoch 28 Accuracy : 33.7524557956778\n",
            "Epoch 28 Loss : 193.45773315429688\n"
          ],
          "name": "stdout"
        },
        {
          "output_type": "stream",
          "text": [
            "160it [00:30,  5.23it/s]\n",
            "1it [00:00,  5.25it/s]"
          ],
          "name": "stderr"
        },
        {
          "output_type": "stream",
          "text": [
            "Epoch 29 Accuracy : 33.04518664047151\n",
            "Epoch 29 Loss : 194.7668914794922\n"
          ],
          "name": "stdout"
        },
        {
          "output_type": "stream",
          "text": [
            "160it [00:30,  5.24it/s]\n",
            "1it [00:00,  5.23it/s]"
          ],
          "name": "stderr"
        },
        {
          "output_type": "stream",
          "text": [
            "Epoch 30 Accuracy : 35.717092337917485\n",
            "Epoch 30 Loss : 191.45152282714844\n"
          ],
          "name": "stdout"
        },
        {
          "output_type": "stream",
          "text": [
            "160it [00:31,  5.15it/s]\n",
            "1it [00:00,  5.27it/s]"
          ],
          "name": "stderr"
        },
        {
          "output_type": "stream",
          "text": [
            "Epoch 31 Accuracy : 33.516699410609036\n",
            "Epoch 31 Loss : 194.71331787109375\n"
          ],
          "name": "stdout"
        },
        {
          "output_type": "stream",
          "text": [
            "160it [00:30,  5.23it/s]\n",
            "1it [00:00,  5.26it/s]"
          ],
          "name": "stderr"
        },
        {
          "output_type": "stream",
          "text": [
            "Epoch 32 Accuracy : 33.90962671905697\n",
            "Epoch 32 Loss : 194.233154296875\n"
          ],
          "name": "stdout"
        },
        {
          "output_type": "stream",
          "text": [
            "160it [00:30,  5.20it/s]\n",
            "1it [00:00,  5.19it/s]"
          ],
          "name": "stderr"
        },
        {
          "output_type": "stream",
          "text": [
            "Epoch 33 Accuracy : 32.652259332023576\n",
            "Epoch 33 Loss : 196.2164764404297\n"
          ],
          "name": "stdout"
        },
        {
          "output_type": "stream",
          "text": [
            "160it [00:30,  5.23it/s]\n",
            "1it [00:00,  5.36it/s]"
          ],
          "name": "stderr"
        },
        {
          "output_type": "stream",
          "text": [
            "Epoch 34 Accuracy : 33.988212180746565\n",
            "Epoch 34 Loss : 193.1702117919922\n"
          ],
          "name": "stdout"
        },
        {
          "output_type": "stream",
          "text": [
            "160it [00:30,  5.26it/s]\n",
            "1it [00:00,  5.26it/s]"
          ],
          "name": "stderr"
        },
        {
          "output_type": "stream",
          "text": [
            "Epoch 35 Accuracy : 33.35952848722986\n",
            "Epoch 35 Loss : 194.1554718017578\n"
          ],
          "name": "stdout"
        },
        {
          "output_type": "stream",
          "text": [
            "160it [00:30,  5.23it/s]\n",
            "1it [00:00,  5.19it/s]"
          ],
          "name": "stderr"
        },
        {
          "output_type": "stream",
          "text": [
            "Epoch 36 Accuracy : 32.25933202357564\n",
            "Epoch 36 Loss : 195.91856384277344\n"
          ],
          "name": "stdout"
        },
        {
          "output_type": "stream",
          "text": [
            "160it [00:30,  5.24it/s]\n",
            "1it [00:00,  5.35it/s]"
          ],
          "name": "stderr"
        },
        {
          "output_type": "stream",
          "text": [
            "Epoch 37 Accuracy : 33.67387033398821\n",
            "Epoch 37 Loss : 194.7185516357422\n"
          ],
          "name": "stdout"
        },
        {
          "output_type": "stream",
          "text": [
            "160it [00:30,  5.24it/s]\n",
            "1it [00:00,  5.20it/s]"
          ],
          "name": "stderr"
        },
        {
          "output_type": "stream",
          "text": [
            "Epoch 38 Accuracy : 34.77406679764244\n",
            "Epoch 38 Loss : 192.83416748046875\n"
          ],
          "name": "stdout"
        },
        {
          "output_type": "stream",
          "text": [
            "160it [00:30,  5.27it/s]\n",
            "1it [00:00,  5.33it/s]"
          ],
          "name": "stderr"
        },
        {
          "output_type": "stream",
          "text": [
            "Epoch 39 Accuracy : 32.25933202357564\n",
            "Epoch 39 Loss : 196.73291015625\n"
          ],
          "name": "stdout"
        },
        {
          "output_type": "stream",
          "text": [
            "160it [00:30,  5.25it/s]\n",
            "1it [00:00,  5.24it/s]"
          ],
          "name": "stderr"
        },
        {
          "output_type": "stream",
          "text": [
            "Epoch 40 Accuracy : 33.7524557956778\n",
            "Epoch 40 Loss : 193.50088500976562\n"
          ],
          "name": "stdout"
        },
        {
          "output_type": "stream",
          "text": [
            "160it [00:31,  5.15it/s]\n",
            "0it [00:00, ?it/s]"
          ],
          "name": "stderr"
        },
        {
          "output_type": "stream",
          "text": [
            "Epoch 41 Accuracy : 32.73084479371317\n",
            "Epoch 41 Loss : 196.03939819335938\n"
          ],
          "name": "stdout"
        },
        {
          "output_type": "stream",
          "text": [
            "160it [00:30,  5.23it/s]\n",
            "1it [00:00,  5.16it/s]"
          ],
          "name": "stderr"
        },
        {
          "output_type": "stream",
          "text": [
            "Epoch 42 Accuracy : 33.280943025540275\n",
            "Epoch 42 Loss : 194.17501831054688\n"
          ],
          "name": "stdout"
        },
        {
          "output_type": "stream",
          "text": [
            "160it [00:30,  5.22it/s]\n",
            "1it [00:00,  5.32it/s]"
          ],
          "name": "stderr"
        },
        {
          "output_type": "stream",
          "text": [
            "Epoch 43 Accuracy : 33.948919449901766\n",
            "Epoch 43 Loss : 193.3404083251953\n"
          ],
          "name": "stdout"
        },
        {
          "output_type": "stream",
          "text": [
            "160it [00:30,  5.24it/s]\n",
            "1it [00:00,  5.36it/s]"
          ],
          "name": "stderr"
        },
        {
          "output_type": "stream",
          "text": [
            "Epoch 44 Accuracy : 33.83104125736739\n",
            "Epoch 44 Loss : 193.44076538085938\n"
          ],
          "name": "stdout"
        },
        {
          "output_type": "stream",
          "text": [
            "160it [00:30,  5.26it/s]\n",
            "1it [00:00,  5.39it/s]"
          ],
          "name": "stderr"
        },
        {
          "output_type": "stream",
          "text": [
            "Epoch 45 Accuracy : 33.713163064833005\n",
            "Epoch 45 Loss : 194.5377655029297\n"
          ],
          "name": "stdout"
        },
        {
          "output_type": "stream",
          "text": [
            "160it [00:30,  5.25it/s]\n",
            "1it [00:00,  5.27it/s]"
          ],
          "name": "stderr"
        },
        {
          "output_type": "stream",
          "text": [
            "Epoch 46 Accuracy : 31.316306483300586\n",
            "Epoch 46 Loss : 197.28350830078125\n"
          ],
          "name": "stdout"
        },
        {
          "output_type": "stream",
          "text": [
            "160it [00:30,  5.29it/s]\n",
            "1it [00:00,  5.29it/s]"
          ],
          "name": "stderr"
        },
        {
          "output_type": "stream",
          "text": [
            "Epoch 47 Accuracy : 32.92730844793713\n",
            "Epoch 47 Loss : 195.6319580078125\n"
          ],
          "name": "stdout"
        },
        {
          "output_type": "stream",
          "text": [
            "160it [00:30,  5.24it/s]\n",
            "1it [00:00,  5.35it/s]"
          ],
          "name": "stderr"
        },
        {
          "output_type": "stream",
          "text": [
            "Epoch 48 Accuracy : 32.652259332023576\n",
            "Epoch 48 Loss : 195.24488830566406\n"
          ],
          "name": "stdout"
        },
        {
          "output_type": "stream",
          "text": [
            "160it [00:30,  5.24it/s]\n",
            "1it [00:00,  5.32it/s]"
          ],
          "name": "stderr"
        },
        {
          "output_type": "stream",
          "text": [
            "Epoch 49 Accuracy : 33.90962671905697\n",
            "Epoch 49 Loss : 194.21202087402344\n"
          ],
          "name": "stdout"
        },
        {
          "output_type": "stream",
          "text": [
            "160it [00:30,  5.25it/s]\n",
            "1it [00:00,  5.30it/s]"
          ],
          "name": "stderr"
        },
        {
          "output_type": "stream",
          "text": [
            "Epoch 50 Accuracy : 32.4950884086444\n",
            "Epoch 50 Loss : 196.4423370361328\n"
          ],
          "name": "stdout"
        },
        {
          "output_type": "stream",
          "text": [
            "160it [00:30,  5.24it/s]\n",
            "0it [00:00, ?it/s]"
          ],
          "name": "stderr"
        },
        {
          "output_type": "stream",
          "text": [
            "Epoch 51 Accuracy : 33.1237721021611\n",
            "Epoch 51 Loss : 194.56454467773438\n"
          ],
          "name": "stdout"
        },
        {
          "output_type": "stream",
          "text": [
            "160it [00:30,  5.17it/s]\n",
            "1it [00:00,  5.25it/s]"
          ],
          "name": "stderr"
        },
        {
          "output_type": "stream",
          "text": [
            "Epoch 52 Accuracy : 33.280943025540275\n",
            "Epoch 52 Loss : 194.45091247558594\n"
          ],
          "name": "stdout"
        },
        {
          "output_type": "stream",
          "text": [
            "160it [00:30,  5.20it/s]\n",
            "1it [00:00,  5.12it/s]"
          ],
          "name": "stderr"
        },
        {
          "output_type": "stream",
          "text": [
            "Epoch 53 Accuracy : 35.67779960707269\n",
            "Epoch 53 Loss : 191.289794921875\n"
          ],
          "name": "stdout"
        },
        {
          "output_type": "stream",
          "text": [
            "160it [00:30,  5.25it/s]\n",
            "1it [00:00,  5.32it/s]"
          ],
          "name": "stderr"
        },
        {
          "output_type": "stream",
          "text": [
            "Epoch 54 Accuracy : 31.669941060903735\n",
            "Epoch 54 Loss : 196.6533966064453\n"
          ],
          "name": "stdout"
        },
        {
          "output_type": "stream",
          "text": [
            "160it [00:30,  5.30it/s]\n",
            "1it [00:00,  5.22it/s]"
          ],
          "name": "stderr"
        },
        {
          "output_type": "stream",
          "text": [
            "Epoch 55 Accuracy : 34.577603143418465\n",
            "Epoch 55 Loss : 193.2566375732422\n"
          ],
          "name": "stdout"
        },
        {
          "output_type": "stream",
          "text": [
            "160it [00:30,  5.25it/s]\n",
            "1it [00:00,  5.14it/s]"
          ],
          "name": "stderr"
        },
        {
          "output_type": "stream",
          "text": [
            "Epoch 56 Accuracy : 33.20235756385069\n",
            "Epoch 56 Loss : 195.1429443359375\n"
          ],
          "name": "stdout"
        },
        {
          "output_type": "stream",
          "text": [
            "160it [00:30,  5.25it/s]\n",
            "1it [00:00,  5.30it/s]"
          ],
          "name": "stderr"
        },
        {
          "output_type": "stream",
          "text": [
            "Epoch 57 Accuracy : 33.00589390962672\n",
            "Epoch 57 Loss : 194.8168182373047\n"
          ],
          "name": "stdout"
        },
        {
          "output_type": "stream",
          "text": [
            "160it [00:30,  5.25it/s]\n",
            "1it [00:00,  5.27it/s]"
          ],
          "name": "stderr"
        },
        {
          "output_type": "stream",
          "text": [
            "Epoch 58 Accuracy : 32.96660117878192\n",
            "Epoch 58 Loss : 195.66964721679688\n"
          ],
          "name": "stdout"
        },
        {
          "output_type": "stream",
          "text": [
            "160it [00:30,  5.27it/s]\n",
            "0it [00:00, ?it/s]"
          ],
          "name": "stderr"
        },
        {
          "output_type": "stream",
          "text": [
            "Epoch 59 Accuracy : 34.577603143418465\n",
            "Epoch 59 Loss : 191.9224090576172\n"
          ],
          "name": "stdout"
        },
        {
          "output_type": "stream",
          "text": [
            "160it [00:30,  5.24it/s]\n",
            "1it [00:00,  5.26it/s]"
          ],
          "name": "stderr"
        },
        {
          "output_type": "stream",
          "text": [
            "Epoch 60 Accuracy : 34.49901768172888\n",
            "Epoch 60 Loss : 193.26278686523438\n"
          ],
          "name": "stdout"
        },
        {
          "output_type": "stream",
          "text": [
            "160it [00:30,  5.27it/s]\n",
            "1it [00:00,  5.20it/s]"
          ],
          "name": "stderr"
        },
        {
          "output_type": "stream",
          "text": [
            "Epoch 61 Accuracy : 33.24165029469548\n",
            "Epoch 61 Loss : 193.91954040527344\n"
          ],
          "name": "stdout"
        },
        {
          "output_type": "stream",
          "text": [
            "160it [00:31,  5.13it/s]\n",
            "1it [00:00,  5.32it/s]"
          ],
          "name": "stderr"
        },
        {
          "output_type": "stream",
          "text": [
            "Epoch 62 Accuracy : 33.83104125736739\n",
            "Epoch 62 Loss : 193.2422637939453\n"
          ],
          "name": "stdout"
        },
        {
          "output_type": "stream",
          "text": [
            "160it [00:30,  5.20it/s]\n",
            "1it [00:00,  5.27it/s]"
          ],
          "name": "stderr"
        },
        {
          "output_type": "stream",
          "text": [
            "Epoch 63 Accuracy : 34.18467583497053\n",
            "Epoch 63 Loss : 193.60997009277344\n"
          ],
          "name": "stdout"
        },
        {
          "output_type": "stream",
          "text": [
            "160it [00:30,  5.24it/s]\n",
            "1it [00:00,  5.20it/s]"
          ],
          "name": "stderr"
        },
        {
          "output_type": "stream",
          "text": [
            "Epoch 64 Accuracy : 34.06679764243615\n",
            "Epoch 64 Loss : 192.84423828125\n"
          ],
          "name": "stdout"
        },
        {
          "output_type": "stream",
          "text": [
            "160it [00:30,  5.22it/s]\n",
            "1it [00:00,  5.26it/s]"
          ],
          "name": "stderr"
        },
        {
          "output_type": "stream",
          "text": [
            "Epoch 65 Accuracy : 32.141453831041254\n",
            "Epoch 65 Loss : 197.08035278320312\n"
          ],
          "name": "stdout"
        },
        {
          "output_type": "stream",
          "text": [
            "160it [00:30,  5.24it/s]\n",
            "1it [00:00,  5.02it/s]"
          ],
          "name": "stderr"
        },
        {
          "output_type": "stream",
          "text": [
            "Epoch 66 Accuracy : 33.7524557956778\n",
            "Epoch 66 Loss : 194.47247314453125\n"
          ],
          "name": "stdout"
        },
        {
          "output_type": "stream",
          "text": [
            "160it [00:30,  5.27it/s]\n",
            "1it [00:00,  5.31it/s]"
          ],
          "name": "stderr"
        },
        {
          "output_type": "stream",
          "text": [
            "Epoch 67 Accuracy : 33.90962671905697\n",
            "Epoch 67 Loss : 193.8948211669922\n"
          ],
          "name": "stdout"
        },
        {
          "output_type": "stream",
          "text": [
            "160it [00:30,  5.26it/s]\n",
            "1it [00:00,  5.17it/s]"
          ],
          "name": "stderr"
        },
        {
          "output_type": "stream",
          "text": [
            "Epoch 68 Accuracy : 34.3418467583497\n",
            "Epoch 68 Loss : 193.56689453125\n"
          ],
          "name": "stdout"
        },
        {
          "output_type": "stream",
          "text": [
            "160it [00:30,  5.25it/s]\n",
            "0it [00:00, ?it/s]"
          ],
          "name": "stderr"
        },
        {
          "output_type": "stream",
          "text": [
            "Epoch 69 Accuracy : 33.32023575638507\n",
            "Epoch 69 Loss : 194.99749755859375\n"
          ],
          "name": "stdout"
        },
        {
          "output_type": "stream",
          "text": [
            "160it [00:30,  5.22it/s]\n",
            "1it [00:00,  5.34it/s]"
          ],
          "name": "stderr"
        },
        {
          "output_type": "stream",
          "text": [
            "Epoch 70 Accuracy : 31.00196463654224\n",
            "Epoch 70 Loss : 197.67303466796875\n"
          ],
          "name": "stdout"
        },
        {
          "output_type": "stream",
          "text": [
            "160it [00:30,  5.25it/s]\n",
            "1it [00:00,  5.23it/s]"
          ],
          "name": "stderr"
        },
        {
          "output_type": "stream",
          "text": [
            "Epoch 71 Accuracy : 33.555992141453835\n",
            "Epoch 71 Loss : 193.8033447265625\n"
          ],
          "name": "stdout"
        },
        {
          "output_type": "stream",
          "text": [
            "160it [00:31,  5.15it/s]\n",
            "1it [00:00,  5.37it/s]"
          ],
          "name": "stderr"
        },
        {
          "output_type": "stream",
          "text": [
            "Epoch 72 Accuracy : 35.12770137524558\n",
            "Epoch 72 Loss : 191.092041015625\n"
          ],
          "name": "stdout"
        },
        {
          "output_type": "stream",
          "text": [
            "160it [00:30,  5.19it/s]\n",
            "1it [00:00,  5.29it/s]"
          ],
          "name": "stderr"
        },
        {
          "output_type": "stream",
          "text": [
            "Epoch 73 Accuracy : 32.53438113948919\n",
            "Epoch 73 Loss : 196.17987060546875\n"
          ],
          "name": "stdout"
        },
        {
          "output_type": "stream",
          "text": [
            "160it [00:30,  5.25it/s]\n",
            "1it [00:00,  5.21it/s]"
          ],
          "name": "stderr"
        },
        {
          "output_type": "stream",
          "text": [
            "Epoch 74 Accuracy : 31.98428290766208\n",
            "Epoch 74 Loss : 195.8061065673828\n"
          ],
          "name": "stdout"
        },
        {
          "output_type": "stream",
          "text": [
            "160it [00:30,  5.26it/s]\n",
            "1it [00:00,  5.33it/s]"
          ],
          "name": "stderr"
        },
        {
          "output_type": "stream",
          "text": [
            "Epoch 75 Accuracy : 33.35952848722986\n",
            "Epoch 75 Loss : 193.74728393554688\n"
          ],
          "name": "stdout"
        },
        {
          "output_type": "stream",
          "text": [
            "160it [00:30,  5.27it/s]\n",
            "1it [00:00,  5.07it/s]"
          ],
          "name": "stderr"
        },
        {
          "output_type": "stream",
          "text": [
            "Epoch 76 Accuracy : 32.37721021611002\n",
            "Epoch 76 Loss : 196.41441345214844\n"
          ],
          "name": "stdout"
        },
        {
          "output_type": "stream",
          "text": [
            "160it [00:30,  5.24it/s]\n",
            "1it [00:00,  5.40it/s]"
          ],
          "name": "stderr"
        },
        {
          "output_type": "stream",
          "text": [
            "Epoch 77 Accuracy : 34.18467583497053\n",
            "Epoch 77 Loss : 193.53134155273438\n"
          ],
          "name": "stdout"
        },
        {
          "output_type": "stream",
          "text": [
            "160it [00:30,  5.24it/s]\n",
            "1it [00:00,  5.16it/s]"
          ],
          "name": "stderr"
        },
        {
          "output_type": "stream",
          "text": [
            "Epoch 78 Accuracy : 34.02750491159136\n",
            "Epoch 78 Loss : 194.02496337890625\n"
          ],
          "name": "stdout"
        },
        {
          "output_type": "stream",
          "text": [
            "160it [00:30,  5.26it/s]\n",
            "1it [00:00,  5.39it/s]"
          ],
          "name": "stderr"
        },
        {
          "output_type": "stream",
          "text": [
            "Epoch 79 Accuracy : 33.713163064833005\n",
            "Epoch 79 Loss : 193.26382446289062\n"
          ],
          "name": "stdout"
        },
        {
          "output_type": "stream",
          "text": [
            "160it [00:30,  5.25it/s]\n",
            "1it [00:00,  5.44it/s]"
          ],
          "name": "stderr"
        },
        {
          "output_type": "stream",
          "text": [
            "Epoch 80 Accuracy : 32.69155206286837\n",
            "Epoch 80 Loss : 195.04029846191406\n"
          ],
          "name": "stdout"
        },
        {
          "output_type": "stream",
          "text": [
            "160it [00:30,  5.24it/s]\n",
            "1it [00:00,  5.18it/s]"
          ],
          "name": "stderr"
        },
        {
          "output_type": "stream",
          "text": [
            "Epoch 81 Accuracy : 32.06286836935167\n",
            "Epoch 81 Loss : 196.9845733642578\n"
          ],
          "name": "stdout"
        },
        {
          "output_type": "stream",
          "text": [
            "160it [00:31,  5.15it/s]\n",
            "1it [00:00,  5.33it/s]"
          ],
          "name": "stderr"
        },
        {
          "output_type": "stream",
          "text": [
            "Epoch 82 Accuracy : 33.555992141453835\n",
            "Epoch 82 Loss : 193.5811004638672\n"
          ],
          "name": "stdout"
        },
        {
          "output_type": "stream",
          "text": [
            "160it [00:30,  5.23it/s]\n",
            "1it [00:00,  5.39it/s]"
          ],
          "name": "stderr"
        },
        {
          "output_type": "stream",
          "text": [
            "Epoch 83 Accuracy : 33.1237721021611\n",
            "Epoch 83 Loss : 195.7418670654297\n"
          ],
          "name": "stdout"
        },
        {
          "output_type": "stream",
          "text": [
            "160it [00:30,  5.26it/s]\n",
            "1it [00:00,  5.29it/s]"
          ],
          "name": "stderr"
        },
        {
          "output_type": "stream",
          "text": [
            "Epoch 84 Accuracy : 33.32023575638507\n",
            "Epoch 84 Loss : 193.96368408203125\n"
          ],
          "name": "stdout"
        },
        {
          "output_type": "stream",
          "text": [
            "160it [00:30,  5.24it/s]\n",
            "1it [00:00,  5.29it/s]"
          ],
          "name": "stderr"
        },
        {
          "output_type": "stream",
          "text": [
            "Epoch 85 Accuracy : 32.652259332023576\n",
            "Epoch 85 Loss : 196.30250549316406\n"
          ],
          "name": "stdout"
        },
        {
          "output_type": "stream",
          "text": [
            "160it [00:30,  5.23it/s]\n",
            "0it [00:00, ?it/s]"
          ],
          "name": "stderr"
        },
        {
          "output_type": "stream",
          "text": [
            "Epoch 86 Accuracy : 34.06679764243615\n",
            "Epoch 86 Loss : 192.67034912109375\n"
          ],
          "name": "stdout"
        },
        {
          "output_type": "stream",
          "text": [
            "160it [00:30,  5.24it/s]\n",
            "1it [00:00,  5.19it/s]"
          ],
          "name": "stderr"
        },
        {
          "output_type": "stream",
          "text": [
            "Epoch 87 Accuracy : 33.39882121807465\n",
            "Epoch 87 Loss : 194.891845703125\n"
          ],
          "name": "stdout"
        },
        {
          "output_type": "stream",
          "text": [
            "160it [00:30,  5.22it/s]\n",
            "1it [00:00,  5.37it/s]"
          ],
          "name": "stderr"
        },
        {
          "output_type": "stream",
          "text": [
            "Epoch 88 Accuracy : 32.96660117878192\n",
            "Epoch 88 Loss : 194.72442626953125\n"
          ],
          "name": "stdout"
        },
        {
          "output_type": "stream",
          "text": [
            "160it [00:30,  5.30it/s]\n",
            "1it [00:00,  5.36it/s]"
          ],
          "name": "stderr"
        },
        {
          "output_type": "stream",
          "text": [
            "Epoch 89 Accuracy : 33.47740667976424\n",
            "Epoch 89 Loss : 194.9053497314453\n"
          ],
          "name": "stdout"
        },
        {
          "output_type": "stream",
          "text": [
            "160it [00:30,  5.29it/s]\n",
            "1it [00:00,  5.24it/s]"
          ],
          "name": "stderr"
        },
        {
          "output_type": "stream",
          "text": [
            "Epoch 90 Accuracy : 32.141453831041254\n",
            "Epoch 90 Loss : 196.73939514160156\n"
          ],
          "name": "stdout"
        },
        {
          "output_type": "stream",
          "text": [
            "160it [00:30,  5.32it/s]\n",
            "1it [00:00,  5.24it/s]"
          ],
          "name": "stderr"
        },
        {
          "output_type": "stream",
          "text": [
            "Epoch 91 Accuracy : 32.88801571709234\n",
            "Epoch 91 Loss : 194.46200561523438\n"
          ],
          "name": "stdout"
        },
        {
          "output_type": "stream",
          "text": [
            "160it [00:30,  5.18it/s]\n",
            "0it [00:00, ?it/s]"
          ],
          "name": "stderr"
        },
        {
          "output_type": "stream",
          "text": [
            "Epoch 92 Accuracy : 33.24165029469548\n",
            "Epoch 92 Loss : 194.92225646972656\n"
          ],
          "name": "stdout"
        },
        {
          "output_type": "stream",
          "text": [
            "160it [00:30,  5.25it/s]\n",
            "1it [00:00,  5.36it/s]"
          ],
          "name": "stderr"
        },
        {
          "output_type": "stream",
          "text": [
            "Epoch 93 Accuracy : 33.1630648330059\n",
            "Epoch 93 Loss : 195.43946838378906\n"
          ],
          "name": "stdout"
        },
        {
          "output_type": "stream",
          "text": [
            "160it [00:30,  5.31it/s]\n",
            "1it [00:00,  5.44it/s]"
          ],
          "name": "stderr"
        },
        {
          "output_type": "stream",
          "text": [
            "Epoch 94 Accuracy : 34.22396856581532\n",
            "Epoch 94 Loss : 193.41488647460938\n"
          ],
          "name": "stdout"
        },
        {
          "output_type": "stream",
          "text": [
            "160it [00:30,  5.30it/s]\n",
            "1it [00:00,  5.28it/s]"
          ],
          "name": "stderr"
        },
        {
          "output_type": "stream",
          "text": [
            "Epoch 95 Accuracy : 32.4950884086444\n",
            "Epoch 95 Loss : 196.43861389160156\n"
          ],
          "name": "stdout"
        },
        {
          "output_type": "stream",
          "text": [
            "160it [00:30,  5.28it/s]\n",
            "1it [00:00,  5.31it/s]"
          ],
          "name": "stderr"
        },
        {
          "output_type": "stream",
          "text": [
            "Epoch 96 Accuracy : 32.848722986247544\n",
            "Epoch 96 Loss : 195.8946075439453\n"
          ],
          "name": "stdout"
        },
        {
          "output_type": "stream",
          "text": [
            "160it [00:30,  5.27it/s]\n",
            "1it [00:00,  5.17it/s]"
          ],
          "name": "stderr"
        },
        {
          "output_type": "stream",
          "text": [
            "Epoch 97 Accuracy : 33.63457760314342\n",
            "Epoch 97 Loss : 194.6974639892578\n"
          ],
          "name": "stdout"
        },
        {
          "output_type": "stream",
          "text": [
            "160it [00:30,  5.30it/s]\n",
            "1it [00:00,  5.19it/s]"
          ],
          "name": "stderr"
        },
        {
          "output_type": "stream",
          "text": [
            "Epoch 98 Accuracy : 33.63457760314342\n",
            "Epoch 98 Loss : 194.6033172607422\n"
          ],
          "name": "stdout"
        },
        {
          "output_type": "stream",
          "text": [
            "160it [00:30,  5.32it/s]\n",
            "1it [00:00,  5.31it/s]"
          ],
          "name": "stderr"
        },
        {
          "output_type": "stream",
          "text": [
            "Epoch 99 Accuracy : 33.47740667976424\n",
            "Epoch 99 Loss : 193.8443145751953\n"
          ],
          "name": "stdout"
        },
        {
          "output_type": "stream",
          "text": [
            "160it [00:30,  5.25it/s]"
          ],
          "name": "stderr"
        },
        {
          "output_type": "stream",
          "text": [
            "Epoch 100 Accuracy : 33.04518664047151\n",
            "Epoch 100 Loss : 195.3923797607422\n"
          ],
          "name": "stdout"
        },
        {
          "output_type": "stream",
          "text": [
            "\n"
          ],
          "name": "stderr"
        }
      ]
    },
    {
      "cell_type": "code",
      "metadata": {
        "id": "BkJuu2OvEutX"
      },
      "source": [
        ""
      ],
      "execution_count": 14,
      "outputs": []
    }
  ]
}